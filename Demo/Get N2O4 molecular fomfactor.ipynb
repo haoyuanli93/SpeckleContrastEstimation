{
 "cells": [
  {
   "cell_type": "markdown",
   "metadata": {},
   "source": [
    "# This notebook serves as a demo of how to get the CO2 form factor\n"
   ]
  },
  {
   "cell_type": "code",
   "execution_count": 1,
   "metadata": {},
   "outputs": [],
   "source": [
    "import numpy as np\n",
    "import matplotlib.pyplot as plt\n",
    "plt.rcParams.update({'font.size': 14})\n",
    "\n",
    "import sys\n",
    "sys.path.append(\"..\")\n",
    "\n",
    "from ContrastEstimation import util, IntensityEstimation"
   ]
  },
  {
   "cell_type": "code",
   "execution_count": 22,
   "metadata": {},
   "outputs": [
    {
     "name": "stdout",
     "output_type": "stream",
     "text": [
      "[\n",
      "[ 'C', np.array([2.667,1.54,0.0]),],\n",
      "[ 'C', np.array([0.0,1.54,0.0]),],\n",
      "[ 'C', np.array([1.334,-0.77,0.0]),],\n",
      "[ 'O', np.array([1.334,2.31,0.0]),],\n",
      "[ 'O', np.array([2.667,-0.0,0.0]),],\n",
      "[ 'O', np.array([0.0,0.0,0.0]),],\n",
      "],\n"
     ]
    }
   ],
   "source": [
    "# Get the molecule structure\n",
    "\"\"\"\n",
    "One can either define the molecule structure or \n",
    "use a PDB file to load existing structure\n",
    "or just select some molecules\n",
    "that I have saved to the module\n",
    "\"\"\"\n",
    "my_molecule = util.get_molecule_from_pdb(\"../pdb_files/trioxane.pdb\")\n",
    "\n",
    "# Show the source code of how I have defined a molecule for calculation.\n",
    "util.show_formated_molecule_structure(my_molecule)"
   ]
  },
  {
   "cell_type": "code",
   "execution_count": 23,
   "metadata": {},
   "outputs": [],
   "source": [
    "# Incident photon energy\n",
    "q_list_A = np.linspace(0.01, 10, 1000)   # 2 pi / lambda\n",
    "\n",
    "# Get the corresponding attenuation legnth\n",
    "formfactor_list = np.array([IntensityEstimation.get_molecular_formfactor_for_uniform_sample(molecule_structure=my_molecule,\n",
    "                                                                                   q_detector_in_A = q_list_A[x])\n",
    "                   for x in range(1000)])"
   ]
  },
  {
   "cell_type": "code",
   "execution_count": 24,
   "metadata": {},
   "outputs": [
    {
     "data": {
      "image/png": "[encoded data removed]",
      "text/plain": [
       "<Figure size 432x288 with 1 Axes>"
      ]
     },
     "metadata": {
      "needs_background": "light"
     },
     "output_type": "display_data"
    }
   ],
   "source": [
    "fig, axis = plt.subplots(ncols=1, nrows=1)\n",
    "\n",
    "axis.plot(q_list_A, formfactor_list, c='purple', lw=3)\n",
    "\n",
    "axis.set_xlabel(\"Q (A^-1)\")\n",
    "axis.set_ylabel(\"F(Q) (um)\")\n",
    "axis.set_xlim([0, 4])\n",
    "#axis.set_ylim([0, 500])\n",
    "#axis.legend()\n",
    "#plt.savefig(\"C:/Users/haoyuan/Desktop/formfactor.png\",  transparent=True, dpi=600)\n",
    "plt.show()"
   ]
  },
  {
   "cell_type": "code",
   "execution_count": null,
   "metadata": {},
   "outputs": [],
   "source": []
  }
 ],
 "metadata": {
  "kernelspec": {
   "display_name": "Python 3",
   "language": "python",
   "name": "python3"
  },
  "language_info": {
   "codemirror_mode": {
    "name": "ipython",
    "version": 3
   },
   "file_extension": ".py",
   "mimetype": "text/x-python",
   "name": "python",
   "nbconvert_exporter": "python",
   "pygments_lexer": "ipython3",
   "version": "3.6.12"
  }
 },
 "nbformat": 4,
 "nbformat_minor": 4
}
