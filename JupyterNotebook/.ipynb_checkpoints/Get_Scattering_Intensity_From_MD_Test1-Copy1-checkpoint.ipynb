{
 "cells": [
  {
   "cell_type": "code",
   "execution_count": 1,
   "metadata": {},
   "outputs": [],
   "source": [
    "import sys\n",
    "sys.path.append(\"C:/Users/haoyuan/Documents/GitHub/SpeckleContrastEstimation/\")\n",
    "\n",
    "import numpy as np\n",
    "import time\n",
    "import matplotlib.pyplot as plt\n",
    "\n",
    "from ContrastEstimation import util, IntensityEstimation, ContrastEstimation, MoleculeZoo\n",
    "from ContrastEstimation import ScatteringInfoMD "
   ]
  },
  {
   "cell_type": "markdown",
   "metadata": {},
   "source": [
    "# Define the incident beam"
   ]
  },
  {
   "cell_type": "code",
   "execution_count": 2,
   "metadata": {},
   "outputs": [],
   "source": [
    "# Load the WAXS data\n",
    "H2O_runs = [233,235,236,237,238,239,240,241,242,243,245,246,247]\n",
    "H2O_temp = [ 30, 50, 75,100,125,150,175,200,225,250,300,325,350]\n",
    "\n",
    "data_holder = []\n",
    "for x in range(len(H2O_runs)):\n",
    "    data_holder.append(np.loadtxt(\"C:/Users/haoyuan/Desktop/PosDoc/WaterContrastEstimation/\"+\n",
    "                                  \"JupyterNotebook_v4/WAXS_data_complete/H2O_{}C_225bar_S{}_S227_sub.dat\".format(H2O_temp[x], H2O_runs[x])))"
   ]
  },
  {
   "cell_type": "code",
   "execution_count": 3,
   "metadata": {},
   "outputs": [],
   "source": [
    "my_density = 0.83 # g / ml\n",
    "\n",
    "my_molecule = MoleculeZoo.molecule_zoo['H2O']\n",
    "atten_length = IntensityEstimation.get_attenuation_length_cm(molecule_structure=my_molecule,\n",
    "                                                             photon_energy_keV=15,\n",
    "                                                             density=my_density)\n",
    "atten_length *= 1e-2"
   ]
  },
  {
   "cell_type": "code",
   "execution_count": 89,
   "metadata": {},
   "outputs": [
    {
     "name": "stdout",
     "output_type": "stream",
     "text": [
      "The measured intensity is 400.03\n"
     ]
    }
   ],
   "source": [
    "photon_energy = 15.  # keV\n",
    "I_in = 2.5  * 1e12  # incoming xray flux [photons/sec] at 14keV\n",
    "l    = 0.42         # sample-to-detector distance [m]\n",
    "p    = 172. *1e-6  # detector pixel size [m]\n",
    "d    = 2.   *1e-3  # sample thickness [m]\n",
    "\n",
    "# solid angle covered by a single detector pixel\n",
    "omega = (p / l)**2 \n",
    "\n",
    "# Get effective sampe thickness\n",
    "d_eff = atten_length * (1 - np.exp( - d / atten_length))\n",
    "\n",
    "x= 3\n",
    "\n",
    "# Get the scatterred intensity at the specified Q value\n",
    "q_idx_1 = np.argmin(np.abs(data_holder[x][:,0] - 2.)) \n",
    "I_out_1 = data_holder[x][q_idx_1, 1]\n",
    "\n",
    "q_idx_2 = np.argmin(np.abs(data_holder[x][:,0] - 1.)) \n",
    "I_out_2 = data_holder[x][q_idx_2, 1]\n",
    "\n",
    "\n",
    "print('The measured intensity is {:.2f}'.format(I_out_1))"
   ]
  },
  {
   "cell_type": "code",
   "execution_count": 92,
   "metadata": {
    "scrolled": true
   },
   "outputs": [
    {
     "data": {
      "text/plain": [
       "3.6301455388239647"
      ]
     },
     "execution_count": 92,
     "metadata": {},
     "output_type": "execute_result"
    }
   ],
   "source": [
    "I_out_1 / I_out_2"
   ]
  },
  {
   "cell_type": "code",
   "execution_count": 91,
   "metadata": {},
   "outputs": [
    {
     "data": {
      "image/png": "[encoded data removed]",
      "text/plain": [
       "<Figure size 432x288 with 1 Axes>"
      ]
     },
     "metadata": {
      "needs_background": "light"
     },
     "output_type": "display_data"
    }
   ],
   "source": [
    "fig, axes = plt.subplots(nrows=1, ncols=1)\n",
    "\n",
    "axes.plot(data_holder[x][:,0], data_holder[x][:,1], label=\"{} C\".format(H2O_temp[x]))\n",
    "    \n",
    "plt.xlim([0.1, 2.2])\n",
    "plt.xlabel(\"Q in A^-1\", fontsize=15)\n",
    "plt.ylabel(\"I(Q) \", fontsize=15)\n",
    "plt.title(\"WAXS Data\", fontsize=15)\n",
    "plt.legend()\n",
    "plt.show()"
   ]
  },
  {
   "cell_type": "markdown",
   "metadata": {},
   "source": [
    "# Get the corresponding curve with MD simulation"
   ]
  },
  {
   "cell_type": "code",
   "execution_count": 8,
   "metadata": {},
   "outputs": [],
   "source": [
    "file_idx_list = np.arange(4000, 10001, 100)"
   ]
  },
  {
   "cell_type": "code",
   "execution_count": 13,
   "metadata": {},
   "outputs": [
    {
     "name": "stdout",
     "output_type": "stream",
     "text": [
      "There are 6.84e+04 atoms in this file.\n",
      "It takes 2.19e-01 seconds to load the atom positions\n"
     ]
    }
   ],
   "source": [
    "tic = time.time()\n",
    "(a_num,\n",
    " box_size,\n",
    " a_types,\n",
    " a_positions) = ScatteringInfoMD.load_atom_info(\n",
    "    \"C:/Users/haoyuan/Desktop/MD_output/atom.position.{}\".format(4000))\n",
    "toc = time.time()\n",
    "print(\"It takes {:.2e} seconds to load the atom positions\".format(toc - tic))"
   ]
  },
  {
   "cell_type": "code",
   "execution_count": 14,
   "metadata": {},
   "outputs": [],
   "source": [
    "q_array_MD = np.linspace(0.1, 2.2, num=50)\n",
    "\n",
    "q_array_complete = []\n",
    "for q_idx in range(50):\n",
    "    q_array_complete.append(\n",
    "        ScatteringInfoMD.get_q_vector_list_in_range(box_size_xyz_A=box_size[:,1] - box_size[:,0],\n",
    "                                                    q_low_A=q_array_MD[q_idx] - 0.01,\n",
    "                                                    q_high_A=q_array_MD[q_idx] + 0.01))\n",
    "\n",
    "length_list = np.array([0,] + [int(x.shape[0]) for x in q_array_complete], dtype=np.int64)\n",
    "split_idx = np.cumsum(length_list)\n",
    "\n",
    "q_array_complete = np.ascontiguousarray(np.concatenate(q_array_complete, axis=0))"
   ]
  },
  {
   "cell_type": "code",
   "execution_count": 15,
   "metadata": {
    "scrolled": false
   },
   "outputs": [
    {
     "name": "stdout",
     "output_type": "stream",
     "text": [
      "There are 6.84e+04 atoms in this file.\n"
     ]
    },
    {
     "name": "stderr",
     "output_type": "stream",
     "text": [
      "C:\\Users\\haoyuan\\.conda\\envs\\python38\\lib\\site-packages\\numba\\cuda\\cudadrv\\devicearray.py:790: NumbaPerformanceWarning: \u001b[1mHost array used in CUDA kernel will incur copy overhead to/from device.\u001b[0m\n",
      "  warn(NumbaPerformanceWarning(msg))\n"
     ]
    },
    {
     "name": "stdout",
     "output_type": "stream",
     "text": [
      "It takes 6.96e+00 seconds to process 1 file\n",
      "There are 6.84e+04 atoms in this file.\n",
      "It takes 6.90e+00 seconds to process 1 file\n",
      "There are 6.84e+04 atoms in this file.\n",
      "It takes 6.90e+00 seconds to process 1 file\n",
      "There are 6.84e+04 atoms in this file.\n",
      "It takes 6.92e+00 seconds to process 1 file\n",
      "There are 6.84e+04 atoms in this file.\n",
      "It takes 7.03e+00 seconds to process 1 file\n",
      "There are 6.84e+04 atoms in this file.\n",
      "It takes 6.99e+00 seconds to process 1 file\n",
      "There are 6.84e+04 atoms in this file.\n",
      "It takes 6.96e+00 seconds to process 1 file\n",
      "There are 6.84e+04 atoms in this file.\n",
      "It takes 7.02e+00 seconds to process 1 file\n",
      "There are 6.84e+04 atoms in this file.\n",
      "It takes 6.96e+00 seconds to process 1 file\n",
      "There are 6.84e+04 atoms in this file.\n",
      "It takes 6.93e+00 seconds to process 1 file\n",
      "There are 6.84e+04 atoms in this file.\n",
      "It takes 6.94e+00 seconds to process 1 file\n",
      "There are 6.84e+04 atoms in this file.\n",
      "It takes 6.98e+00 seconds to process 1 file\n",
      "There are 6.84e+04 atoms in this file.\n",
      "It takes 6.98e+00 seconds to process 1 file\n",
      "There are 6.84e+04 atoms in this file.\n",
      "It takes 6.98e+00 seconds to process 1 file\n",
      "There are 6.84e+04 atoms in this file.\n",
      "It takes 6.99e+00 seconds to process 1 file\n",
      "There are 6.84e+04 atoms in this file.\n",
      "It takes 7.02e+00 seconds to process 1 file\n",
      "There are 6.84e+04 atoms in this file.\n",
      "It takes 7.03e+00 seconds to process 1 file\n",
      "There are 6.84e+04 atoms in this file.\n",
      "It takes 7.04e+00 seconds to process 1 file\n",
      "There are 6.84e+04 atoms in this file.\n",
      "It takes 7.07e+00 seconds to process 1 file\n",
      "There are 6.84e+04 atoms in this file.\n",
      "It takes 7.08e+00 seconds to process 1 file\n",
      "There are 6.84e+04 atoms in this file.\n",
      "It takes 7.13e+00 seconds to process 1 file\n",
      "There are 6.84e+04 atoms in this file.\n",
      "It takes 7.06e+00 seconds to process 1 file\n",
      "There are 6.84e+04 atoms in this file.\n",
      "It takes 7.18e+00 seconds to process 1 file\n",
      "There are 6.84e+04 atoms in this file.\n",
      "It takes 7.07e+00 seconds to process 1 file\n",
      "There are 6.84e+04 atoms in this file.\n",
      "It takes 7.14e+00 seconds to process 1 file\n",
      "There are 6.84e+04 atoms in this file.\n",
      "It takes 7.07e+00 seconds to process 1 file\n",
      "There are 6.84e+04 atoms in this file.\n",
      "It takes 7.06e+00 seconds to process 1 file\n",
      "There are 6.84e+04 atoms in this file.\n",
      "It takes 7.20e+00 seconds to process 1 file\n",
      "There are 6.84e+04 atoms in this file.\n",
      "It takes 7.02e+00 seconds to process 1 file\n",
      "There are 6.84e+04 atoms in this file.\n",
      "It takes 7.03e+00 seconds to process 1 file\n",
      "There are 6.84e+04 atoms in this file.\n",
      "It takes 7.05e+00 seconds to process 1 file\n",
      "There are 6.84e+04 atoms in this file.\n",
      "It takes 6.98e+00 seconds to process 1 file\n",
      "There are 6.84e+04 atoms in this file.\n",
      "It takes 7.11e+00 seconds to process 1 file\n",
      "There are 6.84e+04 atoms in this file.\n",
      "It takes 7.02e+00 seconds to process 1 file\n",
      "There are 6.84e+04 atoms in this file.\n",
      "It takes 7.02e+00 seconds to process 1 file\n",
      "There are 6.84e+04 atoms in this file.\n",
      "It takes 6.98e+00 seconds to process 1 file\n",
      "There are 6.84e+04 atoms in this file.\n",
      "It takes 7.02e+00 seconds to process 1 file\n",
      "There are 6.84e+04 atoms in this file.\n",
      "It takes 6.99e+00 seconds to process 1 file\n",
      "There are 6.84e+04 atoms in this file.\n",
      "It takes 6.94e+00 seconds to process 1 file\n",
      "There are 6.84e+04 atoms in this file.\n",
      "It takes 7.00e+00 seconds to process 1 file\n",
      "There are 6.84e+04 atoms in this file.\n",
      "It takes 6.98e+00 seconds to process 1 file\n",
      "There are 6.84e+04 atoms in this file.\n",
      "It takes 6.94e+00 seconds to process 1 file\n",
      "There are 6.84e+04 atoms in this file.\n",
      "It takes 6.99e+00 seconds to process 1 file\n",
      "There are 6.84e+04 atoms in this file.\n",
      "It takes 6.95e+00 seconds to process 1 file\n",
      "There are 6.84e+04 atoms in this file.\n",
      "It takes 6.96e+00 seconds to process 1 file\n",
      "There are 6.84e+04 atoms in this file.\n",
      "It takes 6.96e+00 seconds to process 1 file\n",
      "There are 6.84e+04 atoms in this file.\n",
      "It takes 6.96e+00 seconds to process 1 file\n",
      "There are 6.84e+04 atoms in this file.\n",
      "It takes 6.96e+00 seconds to process 1 file\n",
      "There are 6.84e+04 atoms in this file.\n",
      "It takes 6.96e+00 seconds to process 1 file\n",
      "There are 6.84e+04 atoms in this file.\n",
      "It takes 6.96e+00 seconds to process 1 file\n",
      "There are 6.84e+04 atoms in this file.\n",
      "It takes 6.99e+00 seconds to process 1 file\n",
      "There are 6.84e+04 atoms in this file.\n",
      "It takes 6.93e+00 seconds to process 1 file\n",
      "There are 6.84e+04 atoms in this file.\n",
      "It takes 6.92e+00 seconds to process 1 file\n",
      "There are 6.84e+04 atoms in this file.\n",
      "It takes 6.91e+00 seconds to process 1 file\n",
      "There are 6.84e+04 atoms in this file.\n",
      "It takes 6.92e+00 seconds to process 1 file\n",
      "There are 6.84e+04 atoms in this file.\n",
      "It takes 6.97e+00 seconds to process 1 file\n",
      "There are 6.84e+04 atoms in this file.\n",
      "It takes 6.94e+00 seconds to process 1 file\n",
      "There are 6.84e+04 atoms in this file.\n",
      "It takes 6.96e+00 seconds to process 1 file\n",
      "There are 6.84e+04 atoms in this file.\n",
      "It takes 6.97e+00 seconds to process 1 file\n",
      "There are 6.84e+04 atoms in this file.\n",
      "It takes 6.92e+00 seconds to process 1 file\n",
      "There are 6.84e+04 atoms in this file.\n",
      "It takes 6.92e+00 seconds to process 1 file\n"
     ]
    }
   ],
   "source": [
    "output_intensity_holder = np.zeros((61, q_array_complete.shape[0]))\n",
    "\n",
    "#for file_idx in range(61):        \n",
    "for file_idx in range(61):        \n",
    "    # Loop through each file\n",
    "    tic = time.time()\n",
    "    (a_num,\n",
    "     box_size,\n",
    "     a_types,\n",
    "     a_positions) = ScatteringInfoMD.load_atom_info(\n",
    "        \"C:/Users/haoyuan/Desktop/MD_output/atom.position.{}\".format(file_idx_list[file_idx]))\n",
    "    \n",
    "    # Loop through all Q values\n",
    "    MD_formfactor = ScatteringInfoMD.get_MD_formfactor_at_Q_list_parallel_at_Q(q_list_A=q_array_complete,\n",
    "                                                                               atom_position_array=a_positions,\n",
    "                                                                               atom_type_array=a_types,\n",
    "                                                                               atom_type_name_list=[\"O\", \"H\"])\n",
    "\n",
    "    scattering_intensity = ScatteringInfoMD.get_diffracted_flux_with_MD_formfactor(in_flux=I_in,\n",
    "                                                                                   dOmega=omega,\n",
    "                                                                                   q_in=util.kev_to_wavevec_A(photon_energy),\n",
    "                                                                                   d_eff_m = d_eff,\n",
    "                                                                                   box_size_A = box_size,\n",
    "                                                                                   q_list_A = q_array_complete,\n",
    "                                                                                   formfactorMD = MD_formfactor)\n",
    "    output_intensity_holder[file_idx, :] = np.copy(scattering_intensity)\n",
    "    \n",
    "    toc = time.time()\n",
    "    print(\"It takes {:.2e} seconds to process 1 file\".format(toc - tic))"
   ]
  },
  {
   "cell_type": "code",
   "execution_count": 64,
   "metadata": {},
   "outputs": [],
   "source": [
    "q_len_list = np.linalg.norm(q_array_complete,axis=-1)\n",
    "\n",
    "q_len_bin = np.array([np.mean(q_len_list[split_idx[x]:split_idx[x+1]]) for x in range(50)])\n",
    "mean_intensity_bin = np.array([np.mean(output_intensity_holder[:, split_idx[x]:split_idx[x+1]]) for x in range(50)])\n",
    "std_intensity_bin = np.array([np.std(output_intensity_holder[:, split_idx[x]:split_idx[x+1]]) for x in range(50)])"
   ]
  },
  {
   "cell_type": "code",
   "execution_count": 70,
   "metadata": {},
   "outputs": [],
   "source": [
    "box_x = (box_size[0,1] - box_size[0,0]) * 1e-10\n",
    "box_y = (box_size[1,1] - box_size[1,0]) * 1e-10\n",
    "box_z = (box_size[2,1] - box_size[2,0]) * 1e-10\n",
    "\n",
    "x_num = int(2e-6 / box_x )\n",
    "y_num = int(2e-6 / box_y )\n",
    "z_num = int(d_eff/ box_z )"
   ]
  },
  {
   "cell_type": "code",
   "execution_count": 71,
   "metadata": {},
   "outputs": [],
   "source": [
    "areaMD = (box_size[0,1] - box_size[0,0]) * (box_size[1,1] - box_size[1,0]) * 1e-20\n",
    "areaSample = (2e-6) * (2e-6)\n",
    "ratio = areaSample / areaMD"
   ]
  },
  {
   "cell_type": "code",
   "execution_count": 72,
   "metadata": {
    "scrolled": true
   },
   "outputs": [
    {
     "data": {
      "image/png": "[encoded data removed]",
      "text/plain": [
       "<Figure size 432x288 with 1 Axes>"
      ]
     },
     "metadata": {
      "needs_background": "light"
     },
     "output_type": "display_data"
    }
   ],
   "source": [
    "plt.plot(q_len_bin, mean_intensity_bin * ratio * z_num * z_num, 'r')\n",
    "plt.show()"
   ]
  },
  {
   "cell_type": "code",
   "execution_count": 96,
   "metadata": {},
   "outputs": [
    {
     "data": {
      "text/plain": [
       "2.3048682907800995"
      ]
     },
     "execution_count": 96,
     "metadata": {},
     "output_type": "execute_result"
    }
   ],
   "source": [
    "q_idx_1 = np.argmin(np.abs(q_len_bin - 1.))\n",
    "q_idx_2 = np.argmin(np.abs(q_len_bin - 2.))\n",
    "\n",
    "mean_intensity_bin[q_idx_2] / mean_intensity_bin[q_idx_1]"
   ]
  }
 ],
 "metadata": {
  "kernelspec": {
   "display_name": "Python 3 (ipykernel)",
   "language": "python",
   "name": "python3"
  },
  "language_info": {
   "codemirror_mode": {
    "name": "ipython",
    "version": 3
   },
   "file_extension": ".py",
   "mimetype": "text/x-python",
   "name": "python",
   "nbconvert_exporter": "python",
   "pygments_lexer": "ipython3",
   "version": "3.8.13"
  }
 },
 "nbformat": 4,
 "nbformat_minor": 4
}
