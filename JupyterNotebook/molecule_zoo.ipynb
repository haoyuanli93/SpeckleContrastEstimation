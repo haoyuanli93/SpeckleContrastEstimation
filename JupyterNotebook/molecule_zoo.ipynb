{
 "cells": [
  {
   "cell_type": "code",
   "execution_count": 4,
   "metadata": {},
   "outputs": [],
   "source": [
    "import sys\n",
    "sys.path.append(\"C:/Users/haoyuan/Documents/GitHub/SpeckleContrastEstimation/\")\n",
    "\n"
   ]
  },
  {
   "cell_type": "code",
   "execution_count": 44,
   "metadata": {},
   "outputs": [],
   "source": [
    "\"\"\"\n",
    "This module contains some auxiliary functions.\n",
    "\"\"\"\n",
    "import numpy as np\n",
    "from ContrastEstimation.AtomMassParams import atom_mass_list\n",
    "\n",
    "atom_types = list(atom_mass_list.keys())\n",
    "\n",
    "\n",
    "########################################\n",
    "#     IO\n",
    "########################################\n",
    "def get_molecule_from_pdb(pdb_file_name):\n",
    "    \"\"\"\n",
    "    Get the molecule structure from the pdb file.\n",
    "\n",
    "    :param pdb_file_name:\n",
    "    :return:\n",
    "    \"\"\"\n",
    "\n",
    "    with open(pdb_file_name, 'r') as pdb_file:\n",
    "\n",
    "        # Define holders\n",
    "        atoms_list = []  # dict to save atom positions and chain id\n",
    "        atom_count = 0\n",
    "\n",
    "        # Read the file\n",
    "        lines = pdb_file.readlines()\n",
    "        \n",
    "        # Get line number\n",
    "        line_num = len(lines)\n",
    "        \n",
    "        # Loop through the lines to parse each line\n",
    "        for line_idx in range(line_num):\n",
    "            \n",
    "            # Get the line\n",
    "            line = lines[line_idx]\n",
    "            \n",
    "            # Check if this line is about atoms\n",
    "            if line[0:4] == 'ATOM' or line[0:6] == 'HETATM':\n",
    "                \n",
    "                # Count the atom number\n",
    "                atom_count += 1\n",
    "                \n",
    "                # Get the atom info\n",
    "                tmp = [str(line[11:14].strip()).capitalize(), float(line[30:38].strip()), float(line[38:46].strip()), float(line[46:54].strip())]\n",
    "\n",
    "                # Format the data \n",
    "                atoms_list.append([tmp[0], np.array(tmp[1:], dtype=np.float64)])\n",
    "                \n",
    "                \n",
    "    return atoms_list\n",
    "\n",
    "def show_formated_molecule_structure(molecule_structure):\n",
    "    \n",
    "    atom_num = len(molecule_structure)\n",
    "    \n",
    "    print('[')\n",
    "    for atom_idx in range(atom_num):\n",
    "        print(\"[ \\'{}\\', np.array([{},{},{}]),],\".format(molecule_structure[atom_idx][0], \n",
    "                                                         molecule_structure[atom_idx][1][0],\n",
    "                                                         molecule_structure[atom_idx][1][1],\n",
    "                                                         molecule_structure[atom_idx][1][2],\n",
    "                                                        ))\n",
    "    \n",
    "    print('],')"
   ]
  },
  {
   "cell_type": "code",
   "execution_count": 53,
   "metadata": {},
   "outputs": [
    {
     "name": "stdout",
     "output_type": "stream",
     "text": [
      "[\n",
      "[ 'C', np.array([0.0,0.0,0.0]),],\n",
      "[ 'C', np.array([1.536,0.0,0.0]),],\n",
      "[ 'C', np.array([2.065,1.442,0.0]),],\n",
      "[ 'H', np.array([-0.368,0.509,0.891]),],\n",
      "[ 'H', np.array([-0.353,-1.031,0.0]),],\n",
      "[ 'H', np.array([-0.368,0.509,-0.891]),],\n",
      "[ 'H', np.array([1.897,-0.517,-0.89]),],\n",
      "[ 'H', np.array([1.897,-0.517,0.889]),],\n",
      "[ 'H', np.array([1.714,1.963,0.891]),],\n",
      "[ 'H', np.array([1.714,1.963,-0.891]),],\n",
      "[ 'H', np.array([3.155,1.418,0.0]),],\n",
      "],\n"
     ]
    }
   ],
   "source": [
    "my_molecule = get_molecule_from_pdb(\"C:/Users/haoyuan/Downloads/propane.pdb\")\n",
    "show_formated_molecule_structure(my_molecule)"
   ]
  },
  {
   "cell_type": "code",
   "execution_count": 39,
   "metadata": {},
   "outputs": [
    {
     "data": {
      "text/plain": [
       "[['N', array([ 0.257, -0.363,  0.   ])],\n",
       " ['H', array([0.257, 0.727, 0.   ])],\n",
       " ['H', array([ 0.771, -0.727,  0.89 ])],\n",
       " ['H', array([ 0.771, -0.727, -0.89 ])]]"
      ]
     },
     "execution_count": 39,
     "metadata": {},
     "output_type": "execute_result"
    }
   ],
   "source": [
    "a"
   ]
  },
  {
   "cell_type": "code",
   "execution_count": null,
   "metadata": {},
   "outputs": [],
   "source": []
  }
 ],
 "metadata": {
  "kernelspec": {
   "display_name": "Python 3",
   "language": "python",
   "name": "python3"
  },
  "language_info": {
   "codemirror_mode": {
    "name": "ipython",
    "version": 3
   },
   "file_extension": ".py",
   "mimetype": "text/x-python",
   "name": "python",
   "nbconvert_exporter": "python",
   "pygments_lexer": "ipython3",
   "version": "3.6.12"
  }
 },
 "nbformat": 4,
 "nbformat_minor": 4
}
