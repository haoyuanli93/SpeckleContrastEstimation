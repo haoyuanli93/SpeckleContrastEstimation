{
 "cells": [
  {
   "cell_type": "code",
   "execution_count": 1,
   "metadata": {},
   "outputs": [],
   "source": [
    "import numpy as np\n",
    "import matplotlib.pyplot as plt\n",
    "import matplotlib\n",
    "from matplotlib.ticker import ScalarFormatter, NullFormatter\n",
    "\n",
    "plt.rcParams.update({'font.size': 14})\n",
    "matplotlib.rcParams['xtick.minor.size'] = 0\n",
    "matplotlib.rcParams['xtick.minor.width'] = 0\n",
    "\n",
    "import sys\n",
    "sys.path.append(\"..\")\n",
    "\n",
    "from ContrastEstimation import util, IntensityEstimation, ContrastEstimation"
   ]
  },
  {
   "cell_type": "markdown",
   "metadata": {},
   "source": [
    "# Define the Incident Beam"
   ]
  },
  {
   "cell_type": "code",
   "execution_count": 2,
   "metadata": {},
   "outputs": [],
   "source": [
    "expParams = {}\n",
    "\n",
    "# Photon energy and bandwidth\n",
    "expParams['photon_energy_keV'] = 9.5  # Beam central photon energy in keV\n",
    "expParams['bandwidth_keV'] = 0.3 * 1e-3 # Beam bandwidth in keV\n",
    "\n",
    "# Beam size (focusing spot size)\n",
    "expParams['beam_size_out_plane'] = 2.  # (um) Beam size on the sample perpendicular to the diffraction plane\n",
    "expParams['beam_size_in_plane'] = 2.  # (um) Beam size on the sample within the diffraction plane\n",
    "\n",
    "# Beam transverse coherence length (No need to change for LCLS beams)\n",
    "expParams['trans_coh_length_out_plane'] = 30.  # (um) Beam coherence length perpendicular to the diffraction plane\n",
    "expParams['trans_coh_length_in_plane'] = 30.  # (um) Beam coherence length within to the diffraction plane\n",
    "\n",
    "# Detector pixel parameter\n",
    "expParams['pixel_size'] = 50.0  # (um) detector pixel size\n",
    "\n",
    "# Q value of interests\n",
    "expParams['Q'] = 0.2 # 2 pi / length scale  # The unit is A^-1\n",
    "\n",
    "# Scattering Geometry: Gamma = 0 means forward scattering, 1 for back scattering.\n",
    "# Back scattering is only possible with crystal\n",
    "expParams['gamma'] = 0.0\n",
    "\n",
    "##########################################################\n",
    "#                Parameters to scan.\n",
    "##########################################################\n",
    "expParams['sample_thickness'] = 50.  # (um) Sample thickness\n",
    "expParams['detector_distance'] = 2.0  # (m) Detector distance\n",
    "\n",
    "# Automatically calculate other quantities to facilicate the calculation\n",
    "expParams = util.auto_update_expParams(expParams)"
   ]
  },
  {
   "cell_type": "code",
   "execution_count": 3,
   "metadata": {},
   "outputs": [
    {
     "name": "stdout",
     "output_type": "stream",
     "text": [
      "1.5015561339020513e-08 7.27977987014611e-09\n"
     ]
    },
    {
     "data": {
      "text/plain": [
       "(2.8796429899336617,\n",
       " 2.0050582119450273,\n",
       " 1.203586097740659,\n",
       " 1.0054355804005548,\n",
       " 0.8086891240101597)"
      ]
     },
     "execution_count": 3,
     "metadata": {},
     "output_type": "execute_result"
    }
   ],
   "source": [
    "ContrastEstimation.get_contrast(expParams)"
   ]
  }
 ],
 "metadata": {
  "kernelspec": {
   "display_name": "Python 3",
   "language": "python",
   "name": "python3"
  },
  "language_info": {
   "codemirror_mode": {
    "name": "ipython",
    "version": 3
   },
   "file_extension": ".py",
   "mimetype": "text/x-python",
   "name": "python",
   "nbconvert_exporter": "python",
   "pygments_lexer": "ipython3",
   "version": "3.6.10"
  }
 },
 "nbformat": 4,
 "nbformat_minor": 4
}
