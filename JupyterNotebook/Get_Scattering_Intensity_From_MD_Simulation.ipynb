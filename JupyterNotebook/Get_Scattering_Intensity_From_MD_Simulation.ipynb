{
 "cells": [
  {
   "cell_type": "code",
   "execution_count": 1,
   "metadata": {},
   "outputs": [],
   "source": [
    "import numpy as np\n",
    "import time\n",
    "import sys\n",
    "sys.path.append(\"C:/Users/haoyuan/Documents/GitHub/SpeckleContrastEstimation/\")\n",
    "\n",
    "from numba import cuda\n",
    "import math\n",
    "from ContrastEstimation.AtomFormFactor import get_atomic_formfactor"
   ]
  },
  {
   "cell_type": "code",
   "execution_count": 2,
   "metadata": {},
   "outputs": [],
   "source": [
    "def load_atom_info(file_name):\n",
    "    \"\"\"\n",
    "    Parse the lammps output file\n",
    "    :param file_name:\n",
    "    :return:\n",
    "    \"\"\"\n",
    "    with open(file_name, 'r') as data_file:\n",
    "        #################################\n",
    "        # Get the atom number\n",
    "        #################################\n",
    "        for idx in range(4):\n",
    "            my_line = data_file.readline()\n",
    "        atom_num = int(my_line)\n",
    "\n",
    "        print(\"There are {:.2e} atoms in this file.\".format(atom_num))\n",
    "\n",
    "        ################################\n",
    "        # Get the box size\n",
    "        ################################\n",
    "        my_line = data_file.readline()\n",
    "\n",
    "        my_line = data_file.readline().split()\n",
    "        xlo = float(my_line[0])\n",
    "        xhi = float(my_line[1])\n",
    "\n",
    "        my_line = data_file.readline().split()\n",
    "        ylo = float(my_line[0])\n",
    "        yhi = float(my_line[1])\n",
    "\n",
    "        my_line = data_file.readline().split()\n",
    "        zlo = float(my_line[0])\n",
    "        zhi = float(my_line[1])\n",
    "\n",
    "        ################################\n",
    "        # Get the atom type and position\n",
    "        ################################\n",
    "        # Create holders for different info\n",
    "        type_holder = np.zeros(atom_num, dtype=np.int64)\n",
    "        position_holder = np.zeros((atom_num, 3), dtype=np.float64)\n",
    "\n",
    "        # Skip the line of description\n",
    "        _ = data_file.readline().split()\n",
    "\n",
    "        # Loop through the remaining lines\n",
    "        for atom_idx in range(atom_num):\n",
    "            info = data_file.readline().split()\n",
    "            type_holder[atom_idx] = int(info[1])\n",
    "            position_holder[atom_idx, :] = np.array([float(info[2]), float(info[3]), float(info[4])],\n",
    "                                                    dtype=np.float64)\n",
    "\n",
    "    return atom_num, np.array([[xlo, xhi], [ylo, yhi], [zlo, zhi]]), type_holder, position_holder"
   ]
  },
  {
   "cell_type": "code",
   "execution_count": 3,
   "metadata": {},
   "outputs": [
    {
     "name": "stdout",
     "output_type": "stream",
     "text": [
      "There are 6.84e+04 atoms in this file.\n",
      "It takes 1.91e-01 seconds to load the atom positions\n"
     ]
    }
   ],
   "source": [
    "tic = time.time()\n",
    "a_num, box_size, a_types, a_positions = load_atom_info(\"C:/Users/haoyuan/Desktop/atom.position.10000\")\n",
    "toc = time.time()\n",
    "print(\"It takes {:.2e} seconds to load the atom positions\".format(toc - tic))"
   ]
  },
  {
   "cell_type": "markdown",
   "metadata": {},
   "source": [
    "# Divide the atoms into different groups to calculate the scattering intensity"
   ]
  },
  {
   "cell_type": "code",
   "execution_count": 4,
   "metadata": {},
   "outputs": [],
   "source": [
    "def categorize_atoms(atom_types, position_holder):\n",
    "    \"\"\"\n",
    "\n",
    "    :param atom_types:\n",
    "    :param position_holder:\n",
    "    :return:\n",
    "    \"\"\"\n",
    "\n",
    "    # Get different number of atom_types\n",
    "    atom_type_list, atom_type_count = np.unique(atom_types, return_counts=True)\n",
    "    atom_type_num = atom_type_list.shape[0]\n",
    "\n",
    "    # Sort the atom_types array based on the type\n",
    "    sorted_idx = np.argsort(atom_types)\n",
    "\n",
    "    # Get the sorted array\n",
    "    atom_type_sorted = atom_types[sorted_idx]\n",
    "    position_sorted = position_holder[sorted_idx]\n",
    "\n",
    "    # Get the index of the start and end of each kind of atoms\n",
    "    atom_type_list, atom_type_start_idx, atom_type_count = np.unique(atom_type_sorted,\n",
    "                                                                     return_index=True,\n",
    "                                                                     return_counts=True)\n",
    "\n",
    "    return atom_type_list, atom_type_start_idx, atom_type_count, atom_type_sorted, position_sorted"
   ]
  },
  {
   "cell_type": "code",
   "execution_count": 5,
   "metadata": {},
   "outputs": [],
   "source": [
    "(a_type_list,\n",
    " a_type_initial,\n",
    " a_type_count,\n",
    " a_type_sorted,\n",
    " a_position_sorted) = categorize_atoms(atom_types=a_types, position_holder=a_positions)"
   ]
  },
  {
   "cell_type": "code",
   "execution_count": 6,
   "metadata": {},
   "outputs": [
    {
     "data": {
      "text/plain": [
       "dtype('float64')"
      ]
     },
     "execution_count": 6,
     "metadata": {},
     "output_type": "execute_result"
    }
   ],
   "source": [
    "a_position_sorted.dtype"
   ]
  },
  {
   "cell_type": "markdown",
   "metadata": {},
   "source": [
    "# Get the diffraction intensity"
   ]
  },
  {
   "cell_type": "code",
   "execution_count": 7,
   "metadata": {},
   "outputs": [],
   "source": [
    "def get_q_vector_list_in_range(box_size_xyz_A, q_low_A, q_high_A):\n",
    "    \"\"\"\n",
    "    Get the q vector list in the range between q_low_A and q_high_A\n",
    "\n",
    "    :param box_size_xyz_A:\n",
    "    :param q_low_A:\n",
    "    :param q_high_A:\n",
    "    :return:\n",
    "    \"\"\"\n",
    "\n",
    "    q_min_x = np.pi * 2 / box_size_xyz_A[0]\n",
    "    q_min_y = np.pi * 2 / box_size_xyz_A[1]\n",
    "    q_min_z = np.pi * 2 / box_size_xyz_A[2]\n",
    "\n",
    "    # Get the number of q to calculate\n",
    "    q_num_x = int(q_high_A / q_min_x) + 1\n",
    "    q_num_y = int(q_high_A / q_min_y) + 1\n",
    "    q_num_z = int(q_high_A / q_min_z) + 1\n",
    "\n",
    "    # Define a Q grid\n",
    "    q_grid = np.zeros((2 * q_num_x + 1,\n",
    "                       2 * q_num_y + 1,\n",
    "                       2 * q_num_z + 1,\n",
    "                       3), dtype=np.float64)\n",
    "\n",
    "    q_grid[:, :, :, 0] = q_min_x * np.arange(start=-q_num_x, stop=q_num_x + 1, step=1)[:, np.newaxis, np.newaxis]\n",
    "    q_grid[:, :, :, 1] = q_min_y * np.arange(start=-q_num_y, stop=q_num_y + 1, step=1)[np.newaxis, :, np.newaxis]\n",
    "    q_grid[:, :, :, 2] = q_min_z * np.arange(start=-q_num_z, stop=q_num_z + 1, step=1)[np.newaxis, np.newaxis, :]\n",
    "\n",
    "    q_length = np.linalg.norm(q_grid, axis=-1)\n",
    "\n",
    "    # Reshape the Q grid\n",
    "    q_num_tot = (2 * q_num_x + 1) * (2 * q_num_y + 1) * (2 * q_num_z + 1)\n",
    "    q_grid = np.reshape(q_grid, newshape=(q_num_tot, 3))\n",
    "    q_length = np.reshape(q_length, newshape=q_num_tot)\n",
    "\n",
    "    # Get the q_list with in the range\n",
    "    return np.ascontiguousarray(q_grid[(q_length < q_high_A) & (q_length > q_low_A)])\n"
   ]
  },
  {
   "cell_type": "code",
   "execution_count": 8,
   "metadata": {},
   "outputs": [],
   "source": [
    "q_list = get_q_vector_list_in_range(box_size_xyz_A=box_size[:,1] - box_size[:,0],\n",
    "                           q_low_A=0.1 - 0.01,\n",
    "                           q_high_A=0.1 + 0.01)"
   ]
  },
  {
   "cell_type": "code",
   "execution_count": 9,
   "metadata": {
    "scrolled": false
   },
   "outputs": [],
   "source": [
    "@cuda.jit('void(float64[:], float64[:], float64[:,:], float64[:,:], float64[:,:], int64[:], int64, int64, int64)')\n",
    "def _get_diffracted_field_at_Q_list(cos_holder, sin_holder,\n",
    "                                    form_factor_list, q_list, atom_position,\n",
    "                                    split_idx, atom_type_num, q_num, atom_num):\n",
    "    atom_iter = cuda.grid(1)\n",
    "    if atom_iter < atom_num:\n",
    "\n",
    "        # Determine the atom type\n",
    "        atom_type = 0\n",
    "        for atom_type_idx in range(atom_type_num):\n",
    "            atom_type += int(bool(atom_iter > split_idx[atom_type_idx]))\n",
    "\n",
    "        # Calculate the Q\n",
    "        for q_idx in range(q_num):\n",
    "            form_factor = form_factor_list[atom_type, q_idx]\n",
    "\n",
    "            phase = (q_list[q_idx, 0] * atom_position[atom_iter, 0] +\n",
    "                     q_list[q_idx, 1] * atom_position[atom_iter, 1] +\n",
    "                     q_list[q_idx, 2] * atom_position[atom_iter, 2])\n",
    "            \n",
    "            cuda.atomic.add(cos_holder, q_idx, form_factor * math.cos(phase) )\n",
    "            cuda.atomic.add(sin_holder, q_idx, form_factor * math.sin(phase) )\n",
    "\n",
    "\n",
    "def get_diffracted_field_at_Q_list(q_list_A, atom_position_array, atom_type_array, atom_type_name_list):\n",
    "    \"\"\"\n",
    "\n",
    "    :param q_list_A:\n",
    "    :param atom_position_array:\n",
    "    :param atom_type_array:\n",
    "    :param atom_type_name_list:\n",
    "    :return:\n",
    "    \"\"\"\n",
    "\n",
    "    atom_num = atom_type_array.shape[0]\n",
    "    \n",
    "    # convert the reciprocal space into a 1d series.\n",
    "    q_len_array = np.linalg.norm(q_list_A, axis=-1)\n",
    "    q_num = q_list_A.shape[0]\n",
    "\n",
    "    # Organize the atom info\n",
    "    (atom_type_unique,\n",
    "     atom_type_start_point,\n",
    "     atom_type_count,\n",
    "     atom_type_sorted,\n",
    "     atom_position_sorted) = categorize_atoms(atom_types=atom_type_array, position_holder=atom_position_array)\n",
    "\n",
    "    # Get the form factor of each atom at each reciprocal point\n",
    "    form_factor_list = np.zeros((len(atom_type_name_list), q_num), dtype=np.float64)\n",
    "    for atom_type_idx in range(len(atom_type_name_list)):\n",
    "        for q_idx in range(q_num):\n",
    "            form_factor_list[atom_type_idx, q_idx] = get_atomic_formfactor(atom_name=atom_type_name_list[atom_type_idx],\n",
    "                                                                           q_detector_in_A=q_len_array[q_idx])\n",
    "\n",
    "    # create\n",
    "    cos_holder = np.zeros(q_num, dtype=np.float64)\n",
    "    sin_holder = np.zeros(q_num, dtype=np.float64)\n",
    "\n",
    "    # Calculate the pattern\n",
    "    _get_diffracted_field_at_Q_list[(atom_num + 511) // 512, 512](cos_holder,\n",
    "                                                                 sin_holder,\n",
    "                                                                 form_factor_list,\n",
    "                                                                 np.ascontiguousarray(q_list_A),\n",
    "                                                              atom_position_sorted,\n",
    "                                                              atom_type_start_point,\n",
    "                                                              len(atom_type_name_list),\n",
    "                                                              q_num,\n",
    "                                                              atom_num)\n",
    "\n",
    "    return cos_holder + 1.j * sin_holder"
   ]
  },
  {
   "cell_type": "code",
   "execution_count": 10,
   "metadata": {},
   "outputs": [
    {
     "name": "stderr",
     "output_type": "stream",
     "text": [
      "C:\\Users\\haoyuan\\anaconda3\\envs\\python38\\lib\\site-packages\\numba\\cuda\\cudadrv\\devicearray.py:790: NumbaPerformanceWarning: \u001b[1mHost array used in CUDA kernel will incur copy overhead to/from device.\u001b[0m\n",
      "  warn(NumbaPerformanceWarning(msg))\n"
     ]
    }
   ],
   "source": [
    "diffracted = get_diffracted_field_at_Q_list(q_list_A=q_list,\n",
    "                                            atom_position_array=a_position_sorted,\n",
    "                                            atom_type_array=a_type_sorted,\n",
    "                                            atom_type_name_list=[\"O\", \"H\"])"
   ]
  },
  {
   "cell_type": "code",
   "execution_count": 11,
   "metadata": {},
   "outputs": [
    {
     "data": {
      "text/plain": [
       "6250.402192993958"
      ]
     },
     "execution_count": 11,
     "metadata": {},
     "output_type": "execute_result"
    }
   ],
   "source": [
    "np.mean(np.square(np.abs(diffracted)))"
   ]
  }
 ],
 "metadata": {
  "kernelspec": {
   "display_name": "Python 3 (ipykernel)",
   "language": "python",
   "name": "python3"
  },
  "language_info": {
   "codemirror_mode": {
    "name": "ipython",
    "version": 3
   },
   "file_extension": ".py",
   "mimetype": "text/x-python",
   "name": "python",
   "nbconvert_exporter": "python",
   "pygments_lexer": "ipython3",
   "version": "3.8.13"
  }
 },
 "nbformat": 4,
 "nbformat_minor": 4
}
