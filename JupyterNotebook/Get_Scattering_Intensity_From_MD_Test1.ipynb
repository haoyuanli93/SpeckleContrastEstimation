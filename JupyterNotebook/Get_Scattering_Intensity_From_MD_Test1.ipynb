{
 "cells": [
  {
   "cell_type": "code",
   "execution_count": 1,
   "metadata": {},
   "outputs": [],
   "source": [
    "import sys\n",
    "sys.path.append(\"C:/Users/haoyuan/Documents/GitHub/SpeckleContrastEstimation/\")\n",
    "\n",
    "import numpy as np\n",
    "import time\n",
    "\n",
    "from ContrastEstimation import util, IntensityEstimation, ContrastEstimation, MoleculeZoo\n",
    "from ContrastEstimation import ScatteringInfoMD "
   ]
  },
  {
   "cell_type": "markdown",
   "metadata": {},
   "source": [
    "# Define the incident beam"
   ]
  },
  {
   "cell_type": "code",
   "execution_count": 2,
   "metadata": {},
   "outputs": [],
   "source": [
    "# Load the WAXS data\n",
    "H2O_runs = [233,235,236,237,238,239,240,241,242,243,245,246,247]\n",
    "H2O_temp = [ 30, 50, 75,100,125,150,175,200,225,250,300,325,350]\n",
    "\n",
    "data_holder = []\n",
    "for x in range(len(H2O_runs)):\n",
    "    data_holder.append(np.loadtxt(\"C:/Users/haoyuan/Desktop/PosDoc/WaterContrastEstimation/\"+\n",
    "                                  \"JupyterNotebook_v4/WAXS_data_complete/H2O_{}C_225bar_S{}_S227_sub.dat\".format(H2O_temp[x], H2O_runs[x])))"
   ]
  },
  {
   "cell_type": "code",
   "execution_count": 3,
   "metadata": {},
   "outputs": [],
   "source": [
    "my_density = 0.83 # g / ml\n",
    "\n",
    "my_molecule = MoleculeZoo.molecule_zoo['H2O']\n",
    "atten_length = IntensityEstimation.get_attenuation_length_cm(molecule_structure=my_molecule,\n",
    "                                                             photon_energy_keV=15,\n",
    "                                                             density=my_density)\n",
    "atten_length *= 1e-2"
   ]
  },
  {
   "cell_type": "code",
   "execution_count": 4,
   "metadata": {},
   "outputs": [
    {
     "name": "stdout",
     "output_type": "stream",
     "text": [
      "The measured intensity is 71.35\n"
     ]
    }
   ],
   "source": [
    "photon_energy = 15.  # keV\n",
    "I_in = 2.5  * 1e12  # incoming xray flux [photons/sec] at 14keV\n",
    "l    = 0.42         # sample-to-detector distance [m]\n",
    "p    = 172. *1e-6  # detector pixel size [m]\n",
    "d    = 2.   *1e-3  # sample thickness [m]\n",
    "\n",
    "# solid angle covered by a single detector pixel\n",
    "omega = (p / l)**2 \n",
    "\n",
    "# Get effective sampe thickness\n",
    "d_eff = atten_length * (1 - np.exp( - d / atten_length))\n",
    "\n",
    "# Get the scatterred intensity at the specified Q value\n",
    "q_idx = np.argmin(np.abs(data_holder[0][:,0] - 0.1)) \n",
    "I_out = data_holder[0][q_idx, 1]\n",
    "\n",
    "print('The measured intensity is {:.2f}'.format(I_out))"
   ]
  },
  {
   "cell_type": "markdown",
   "metadata": {},
   "source": [
    "# Get the corresponding curve with MD simulation"
   ]
  },
  {
   "cell_type": "code",
   "execution_count": 5,
   "metadata": {},
   "outputs": [],
   "source": [
    "file_idx_list = np.arange(4000, 10001, 100)"
   ]
  },
  {
   "cell_type": "code",
   "execution_count": 6,
   "metadata": {
    "scrolled": false
   },
   "outputs": [
    {
     "name": "stdout",
     "output_type": "stream",
     "text": [
      "There are 6.84e+04 atoms in this file.\n",
      "It takes 1.98e-01 seconds to load the atom positions\n",
      "(12, 3)\n",
      "(30, 3)\n",
      "(12, 3)\n",
      "(32, 3)\n",
      "(54, 3)\n",
      "(72, 3)\n",
      "(104, 3)\n",
      "(150, 3)\n",
      "(168, 3)\n",
      "(240, 3)\n",
      "(174, 3)\n",
      "(260, 3)\n",
      "(336, 3)\n",
      "(276, 3)\n",
      "(392, 3)\n",
      "(582, 3)\n"
     ]
    },
    {
     "name": "stderr",
     "output_type": "stream",
     "text": [
      "C:\\Users\\haoyuan\\anaconda3\\envs\\python38\\lib\\site-packages\\numba\\cuda\\compiler.py:865: NumbaPerformanceWarning: \u001b[1mGrid size (1) < 2 * SM count (30) will likely result in GPU under utilization due to low occupancy.\u001b[0m\n",
      "  warn(NumbaPerformanceWarning(msg))\n",
      "C:\\Users\\haoyuan\\anaconda3\\envs\\python38\\lib\\site-packages\\numba\\cuda\\cudadrv\\devicearray.py:790: NumbaPerformanceWarning: \u001b[1mHost array used in CUDA kernel will incur copy overhead to/from device.\u001b[0m\n",
      "  warn(NumbaPerformanceWarning(msg))\n",
      "C:\\Users\\haoyuan\\anaconda3\\envs\\python38\\lib\\site-packages\\numba\\cuda\\compiler.py:865: NumbaPerformanceWarning: \u001b[1mGrid size (2) < 2 * SM count (30) will likely result in GPU under utilization due to low occupancy.\u001b[0m\n",
      "  warn(NumbaPerformanceWarning(msg))\n"
     ]
    },
    {
     "name": "stdout",
     "output_type": "stream",
     "text": [
      "(528, 3)\n",
      "(696, 3)\n",
      "(630, 3)\n",
      "(768, 3)\n",
      "(780, 3)\n",
      "(846, 3)\n",
      "(860, 3)\n",
      "(1008, 3)\n",
      "(828, 3)\n",
      "(1160, 3)\n",
      "(1326, 3)\n",
      "(1392, 3)\n",
      "(1488, 3)\n",
      "(1470, 3)\n"
     ]
    },
    {
     "name": "stderr",
     "output_type": "stream",
     "text": [
      "C:\\Users\\haoyuan\\anaconda3\\envs\\python38\\lib\\site-packages\\numba\\cuda\\compiler.py:865: NumbaPerformanceWarning: \u001b[1mGrid size (3) < 2 * SM count (30) will likely result in GPU under utilization due to low occupancy.\u001b[0m\n",
      "  warn(NumbaPerformanceWarning(msg))\n",
      "C:\\Users\\haoyuan\\anaconda3\\envs\\python38\\lib\\site-packages\\numba\\cuda\\compiler.py:865: NumbaPerformanceWarning: \u001b[1mGrid size (4) < 2 * SM count (30) will likely result in GPU under utilization due to low occupancy.\u001b[0m\n",
      "  warn(NumbaPerformanceWarning(msg))\n"
     ]
    },
    {
     "name": "stdout",
     "output_type": "stream",
     "text": [
      "(1568, 3)\n",
      "(1788, 3)\n",
      "(1638, 3)\n",
      "(1916, 3)\n",
      "(2160, 3)\n"
     ]
    },
    {
     "name": "stderr",
     "output_type": "stream",
     "text": [
      "C:\\Users\\haoyuan\\anaconda3\\envs\\python38\\lib\\site-packages\\numba\\cuda\\compiler.py:865: NumbaPerformanceWarning: \u001b[1mGrid size (5) < 2 * SM count (30) will likely result in GPU under utilization due to low occupancy.\u001b[0m\n",
      "  warn(NumbaPerformanceWarning(msg))\n",
      "C:\\Users\\haoyuan\\anaconda3\\envs\\python38\\lib\\site-packages\\numba\\cuda\\compiler.py:865: NumbaPerformanceWarning: \u001b[1mGrid size (6) < 2 * SM count (30) will likely result in GPU under utilization due to low occupancy.\u001b[0m\n",
      "  warn(NumbaPerformanceWarning(msg))\n"
     ]
    },
    {
     "name": "stdout",
     "output_type": "stream",
     "text": [
      "(1974, 3)\n",
      "(2400, 3)\n",
      "(2574, 3)\n",
      "(2376, 3)\n",
      "(2592, 3)\n",
      "(2934, 3)\n",
      "(2792, 3)\n",
      "(3252, 3)\n"
     ]
    },
    {
     "name": "stderr",
     "output_type": "stream",
     "text": [
      "C:\\Users\\haoyuan\\anaconda3\\envs\\python38\\lib\\site-packages\\numba\\cuda\\compiler.py:865: NumbaPerformanceWarning: \u001b[1mGrid size (7) < 2 * SM count (30) will likely result in GPU under utilization due to low occupancy.\u001b[0m\n",
      "  warn(NumbaPerformanceWarning(msg))\n"
     ]
    },
    {
     "name": "stdout",
     "output_type": "stream",
     "text": [
      "(2934, 3)\n",
      "(3372, 3)\n",
      "(3528, 3)\n",
      "(3558, 3)\n",
      "(4032, 3)\n"
     ]
    },
    {
     "name": "stderr",
     "output_type": "stream",
     "text": [
      "C:\\Users\\haoyuan\\anaconda3\\envs\\python38\\lib\\site-packages\\numba\\cuda\\compiler.py:865: NumbaPerformanceWarning: \u001b[1mGrid size (8) < 2 * SM count (30) will likely result in GPU under utilization due to low occupancy.\u001b[0m\n",
      "  warn(NumbaPerformanceWarning(msg))\n"
     ]
    },
    {
     "name": "stdout",
     "output_type": "stream",
     "text": [
      "(3768, 3)\n",
      "(3944, 3)\n",
      "There are 6.84e+04 atoms in this file.\n",
      "It takes 1.89e-01 seconds to load the atom positions\n",
      "(12, 3)\n",
      "(30, 3)\n",
      "(12, 3)\n",
      "(32, 3)\n",
      "(54, 3)\n",
      "(72, 3)\n",
      "(104, 3)\n",
      "(150, 3)\n",
      "(168, 3)\n",
      "(240, 3)\n",
      "(174, 3)\n",
      "(260, 3)\n",
      "(336, 3)\n",
      "(276, 3)\n",
      "(392, 3)\n",
      "(582, 3)\n",
      "(528, 3)\n",
      "(696, 3)\n",
      "(630, 3)\n",
      "(768, 3)\n",
      "(780, 3)\n",
      "(846, 3)\n",
      "(860, 3)\n",
      "(1008, 3)\n",
      "(828, 3)\n",
      "(1160, 3)\n",
      "(1326, 3)\n",
      "(1392, 3)\n",
      "(1488, 3)\n",
      "(1662, 3)\n",
      "(1568, 3)\n",
      "(1788, 3)\n",
      "(1638, 3)\n",
      "(1916, 3)\n",
      "(2160, 3)\n",
      "(1974, 3)\n",
      "(2400, 3)\n",
      "(2574, 3)\n",
      "(2376, 3)\n",
      "(2592, 3)\n",
      "(2934, 3)\n",
      "(2792, 3)\n",
      "(3252, 3)\n",
      "(2934, 3)\n",
      "(3372, 3)\n",
      "(3528, 3)\n",
      "(3558, 3)\n",
      "(4032, 3)\n",
      "(3768, 3)\n",
      "(3944, 3)\n",
      "There are 6.84e+04 atoms in this file.\n",
      "It takes 2.48e-01 seconds to load the atom positions\n",
      "(12, 3)\n",
      "(30, 3)\n",
      "(12, 3)\n",
      "(32, 3)\n",
      "(54, 3)\n",
      "(72, 3)\n",
      "(104, 3)\n",
      "(150, 3)\n",
      "(168, 3)\n",
      "(240, 3)\n",
      "(174, 3)\n",
      "(260, 3)\n",
      "(336, 3)\n",
      "(276, 3)\n",
      "(392, 3)\n",
      "(438, 3)\n",
      "(528, 3)\n",
      "(696, 3)\n",
      "(630, 3)\n",
      "(768, 3)\n",
      "(780, 3)\n",
      "(846, 3)\n",
      "(860, 3)\n",
      "(1008, 3)\n",
      "(828, 3)\n",
      "(1160, 3)\n",
      "(1326, 3)\n",
      "(1296, 3)\n",
      "(1632, 3)\n",
      "(1662, 3)\n",
      "(1568, 3)\n",
      "(1788, 3)\n",
      "(1638, 3)\n",
      "(1916, 3)\n",
      "(1872, 3)\n",
      "(2070, 3)\n",
      "(2400, 3)\n",
      "(2574, 3)\n",
      "(2328, 3)\n",
      "(2592, 3)\n",
      "(2934, 3)\n",
      "(2792, 3)\n",
      "(3084, 3)\n",
      "(2934, 3)\n",
      "(3372, 3)\n",
      "(3528, 3)\n",
      "(3558, 3)\n",
      "(4032, 3)\n",
      "(4248, 3)\n",
      "(3944, 3)\n"
     ]
    },
    {
     "name": "stderr",
     "output_type": "stream",
     "text": [
      "C:\\Users\\haoyuan\\anaconda3\\envs\\python38\\lib\\site-packages\\numba\\cuda\\compiler.py:865: NumbaPerformanceWarning: \u001b[1mGrid size (9) < 2 * SM count (30) will likely result in GPU under utilization due to low occupancy.\u001b[0m\n",
      "  warn(NumbaPerformanceWarning(msg))\n"
     ]
    },
    {
     "name": "stdout",
     "output_type": "stream",
     "text": [
      "There are 6.84e+04 atoms in this file.\n",
      "It takes 2.21e-01 seconds to load the atom positions\n",
      "(12, 3)\n",
      "(30, 3)\n",
      "(12, 3)\n",
      "(32, 3)\n",
      "(54, 3)\n",
      "(72, 3)\n",
      "(104, 3)\n",
      "(150, 3)\n",
      "(168, 3)\n",
      "(240, 3)\n",
      "(174, 3)\n",
      "(260, 3)\n",
      "(336, 3)\n",
      "(276, 3)\n",
      "(392, 3)\n",
      "(438, 3)\n",
      "(528, 3)\n",
      "(696, 3)\n",
      "(630, 3)\n",
      "(768, 3)\n",
      "(780, 3)\n",
      "(846, 3)\n",
      "(860, 3)\n",
      "(1008, 3)\n",
      "(828, 3)\n",
      "(1160, 3)\n",
      "(1326, 3)\n",
      "(1296, 3)\n",
      "(1632, 3)\n",
      "(1662, 3)\n",
      "(1424, 3)\n",
      "(1740, 3)\n",
      "(1638, 3)\n",
      "(1916, 3)\n",
      "(1872, 3)\n",
      "(2070, 3)\n",
      "(2400, 3)\n",
      "(2574, 3)\n",
      "(2328, 3)\n",
      "(2592, 3)\n",
      "(2934, 3)\n",
      "(2792, 3)\n",
      "(3588, 3)\n",
      "(2934, 3)\n",
      "(3372, 3)\n",
      "(3528, 3)\n",
      "(3342, 3)\n",
      "(4032, 3)\n",
      "(4032, 3)\n",
      "(3944, 3)\n",
      "There are 6.84e+04 atoms in this file.\n",
      "It takes 2.00e-01 seconds to load the atom positions\n",
      "(12, 3)\n",
      "(30, 3)\n",
      "(12, 3)\n",
      "(32, 3)\n",
      "(54, 3)\n"
     ]
    },
    {
     "ename": "CudaAPIError",
     "evalue": "[700] Call to cuMemcpyDtoH results in UNKNOWN_CUDA_ERROR",
     "output_type": "error",
     "traceback": [
      "\u001b[1;31m---------------------------------------------------------------------------\u001b[0m",
      "\u001b[1;31mCudaAPIError\u001b[0m                              Traceback (most recent call last)",
      "Input \u001b[1;32mIn [6]\u001b[0m, in \u001b[0;36m<cell line: 5>\u001b[1;34m()\u001b[0m\n\u001b[0;32m     25\u001b[0m q_list \u001b[38;5;241m=\u001b[39m ScatteringInfoMD\u001b[38;5;241m.\u001b[39mget_q_vector_list_in_range(box_size_xyz_A\u001b[38;5;241m=\u001b[39mbox_size[:,\u001b[38;5;241m1\u001b[39m] \u001b[38;5;241m-\u001b[39m box_size[:,\u001b[38;5;241m0\u001b[39m],\n\u001b[0;32m     26\u001b[0m                                                      q_low_A\u001b[38;5;241m=\u001b[39mq_array_MD[q_idx] \u001b[38;5;241m-\u001b[39m \u001b[38;5;241m0.01\u001b[39m,\n\u001b[0;32m     27\u001b[0m                                                      q_high_A\u001b[38;5;241m=\u001b[39mq_array_MD[q_idx] \u001b[38;5;241m+\u001b[39m \u001b[38;5;241m0.01\u001b[39m)\n\u001b[0;32m     28\u001b[0m \u001b[38;5;28mprint\u001b[39m(q_list\u001b[38;5;241m.\u001b[39mshape)\n\u001b[1;32m---> 30\u001b[0m MD_formfactor \u001b[38;5;241m=\u001b[39m \u001b[43mScatteringInfoMD\u001b[49m\u001b[38;5;241;43m.\u001b[39;49m\u001b[43mget_MD_formfactor_at_Q_list\u001b[49m\u001b[43m(\u001b[49m\u001b[43mq_list_A\u001b[49m\u001b[38;5;241;43m=\u001b[39;49m\u001b[43mq_list\u001b[49m\u001b[43m,\u001b[49m\n\u001b[0;32m     31\u001b[0m \u001b[43m                                                  \u001b[49m\u001b[43matom_position_array\u001b[49m\u001b[38;5;241;43m=\u001b[39;49m\u001b[43ma_position_sorted\u001b[49m\u001b[43m,\u001b[49m\n\u001b[0;32m     32\u001b[0m \u001b[43m                                                  \u001b[49m\u001b[43matom_type_array\u001b[49m\u001b[38;5;241;43m=\u001b[39;49m\u001b[43ma_type_sorted\u001b[49m\u001b[43m,\u001b[49m\n\u001b[0;32m     33\u001b[0m \u001b[43m                                                  \u001b[49m\u001b[43matom_type_name_list\u001b[49m\u001b[38;5;241;43m=\u001b[39;49m\u001b[43m[\u001b[49m\u001b[38;5;124;43m\"\u001b[39;49m\u001b[38;5;124;43mO\u001b[39;49m\u001b[38;5;124;43m\"\u001b[39;49m\u001b[43m,\u001b[49m\u001b[43m \u001b[49m\u001b[38;5;124;43m\"\u001b[39;49m\u001b[38;5;124;43mH\u001b[39;49m\u001b[38;5;124;43m\"\u001b[39;49m\u001b[43m]\u001b[49m\u001b[43m)\u001b[49m\n\u001b[0;32m     35\u001b[0m scattering_intensity \u001b[38;5;241m=\u001b[39m ScatteringInfoMD\u001b[38;5;241m.\u001b[39mget_diffracted_flux_with_MD_formfactor(in_flux\u001b[38;5;241m=\u001b[39mI_in,\n\u001b[0;32m     36\u001b[0m                                                                                dOmega\u001b[38;5;241m=\u001b[39momega,\n\u001b[0;32m     37\u001b[0m                                                                                q_in\u001b[38;5;241m=\u001b[39mutil\u001b[38;5;241m.\u001b[39mkev_to_wavevec_A(photon_energy),\n\u001b[1;32m   (...)\u001b[0m\n\u001b[0;32m     40\u001b[0m                                                                                q_list_A \u001b[38;5;241m=\u001b[39m q_list,\n\u001b[0;32m     41\u001b[0m                                                                                formfactorMD \u001b[38;5;241m=\u001b[39m MD_formfactor)\n\u001b[0;32m     42\u001b[0m output_intensity_holder[file_idx, q_idx] \u001b[38;5;241m=\u001b[39m np\u001b[38;5;241m.\u001b[39mmean(scattering_intensity)\n",
      "File \u001b[1;32mC:\\Users/haoyuan/Documents/GitHub/SpeckleContrastEstimation\\ContrastEstimation\\ScatteringInfoMD.py:191\u001b[0m, in \u001b[0;36mget_MD_formfactor_at_Q_list\u001b[1;34m(q_list_A, atom_position_array, atom_type_array, atom_type_name_list)\u001b[0m\n\u001b[0;32m    188\u001b[0m sin_holder \u001b[38;5;241m=\u001b[39m np\u001b[38;5;241m.\u001b[39mzeros(q_num, dtype\u001b[38;5;241m=\u001b[39mnp\u001b[38;5;241m.\u001b[39mfloat64)\n\u001b[0;32m    190\u001b[0m \u001b[38;5;66;03m# Calculate the pattern\u001b[39;00m\n\u001b[1;32m--> 191\u001b[0m \u001b[43m_get_MD_formfactor_at_Q_list\u001b[49m\u001b[43m[\u001b[49m\u001b[43m(\u001b[49m\u001b[43mq_num\u001b[49m\u001b[43m \u001b[49m\u001b[38;5;241;43m+\u001b[39;49m\u001b[43m \u001b[49m\u001b[38;5;241;43m511\u001b[39;49m\u001b[43m)\u001b[49m\u001b[43m \u001b[49m\u001b[38;5;241;43m/\u001b[39;49m\u001b[38;5;241;43m/\u001b[39;49m\u001b[43m \u001b[49m\u001b[38;5;241;43m512\u001b[39;49m\u001b[43m,\u001b[49m\u001b[43m \u001b[49m\u001b[38;5;241;43m512\u001b[39;49m\u001b[43m]\u001b[49m\u001b[43m(\u001b[49m\u001b[43mcos_holder\u001b[49m\u001b[43m,\u001b[49m\n\u001b[0;32m    192\u001b[0m \u001b[43m                                                        \u001b[49m\u001b[43msin_holder\u001b[49m\u001b[43m,\u001b[49m\n\u001b[0;32m    193\u001b[0m \u001b[43m                                                        \u001b[49m\u001b[43mform_factor_list\u001b[49m\u001b[43m,\u001b[49m\n\u001b[0;32m    194\u001b[0m \u001b[43m                                                        \u001b[49m\u001b[43mnp\u001b[49m\u001b[38;5;241;43m.\u001b[39;49m\u001b[43mascontiguousarray\u001b[49m\u001b[43m(\u001b[49m\u001b[43mq_list_A\u001b[49m\u001b[43m)\u001b[49m\u001b[43m,\u001b[49m\n\u001b[0;32m    195\u001b[0m \u001b[43m                                                        \u001b[49m\u001b[43matom_position_sorted\u001b[49m\u001b[43m,\u001b[49m\n\u001b[0;32m    196\u001b[0m \u001b[43m                                                        \u001b[49m\u001b[43matom_type_start_point\u001b[49m\u001b[43m,\u001b[49m\n\u001b[0;32m    197\u001b[0m \u001b[43m                                                        \u001b[49m\u001b[38;5;28;43mlen\u001b[39;49m\u001b[43m(\u001b[49m\u001b[43matom_type_name_list\u001b[49m\u001b[43m)\u001b[49m\u001b[43m,\u001b[49m\n\u001b[0;32m    198\u001b[0m \u001b[43m                                                        \u001b[49m\u001b[43mq_num\u001b[49m\u001b[43m,\u001b[49m\n\u001b[0;32m    199\u001b[0m \u001b[43m                                                        \u001b[49m\u001b[43matom_type_array\u001b[49m\u001b[38;5;241;43m.\u001b[39;49m\u001b[43mshape\u001b[49m\u001b[43m[\u001b[49m\u001b[38;5;241;43m0\u001b[39;49m\u001b[43m]\u001b[49m\u001b[43m)\u001b[49m\n\u001b[0;32m    201\u001b[0m \u001b[38;5;28;01mreturn\u001b[39;00m cos_holder \u001b[38;5;241m+\u001b[39m \u001b[38;5;241m1.\u001b[39mj \u001b[38;5;241m*\u001b[39m sin_holder\n",
      "File \u001b[1;32m~\\anaconda3\\envs\\python38\\lib\\site-packages\\numba\\cuda\\compiler.py:868\u001b[0m, in \u001b[0;36m_KernelConfiguration.__call__\u001b[1;34m(self, *args)\u001b[0m\n\u001b[0;32m    867\u001b[0m \u001b[38;5;28;01mdef\u001b[39;00m \u001b[38;5;21m__call__\u001b[39m(\u001b[38;5;28mself\u001b[39m, \u001b[38;5;241m*\u001b[39margs):\n\u001b[1;32m--> 868\u001b[0m     \u001b[38;5;28;01mreturn\u001b[39;00m \u001b[38;5;28;43mself\u001b[39;49m\u001b[38;5;241;43m.\u001b[39;49m\u001b[43mdispatcher\u001b[49m\u001b[38;5;241;43m.\u001b[39;49m\u001b[43mcall\u001b[49m\u001b[43m(\u001b[49m\u001b[43margs\u001b[49m\u001b[43m,\u001b[49m\u001b[43m \u001b[49m\u001b[38;5;28;43mself\u001b[39;49m\u001b[38;5;241;43m.\u001b[39;49m\u001b[43mgriddim\u001b[49m\u001b[43m,\u001b[49m\u001b[43m \u001b[49m\u001b[38;5;28;43mself\u001b[39;49m\u001b[38;5;241;43m.\u001b[39;49m\u001b[43mblockdim\u001b[49m\u001b[43m,\u001b[49m\n\u001b[0;32m    869\u001b[0m \u001b[43m                                \u001b[49m\u001b[38;5;28;43mself\u001b[39;49m\u001b[38;5;241;43m.\u001b[39;49m\u001b[43mstream\u001b[49m\u001b[43m,\u001b[49m\u001b[43m \u001b[49m\u001b[38;5;28;43mself\u001b[39;49m\u001b[38;5;241;43m.\u001b[39;49m\u001b[43msharedmem\u001b[49m\u001b[43m)\u001b[49m\n",
      "File \u001b[1;32m~\\anaconda3\\envs\\python38\\lib\\site-packages\\numba\\cuda\\compiler.py:1003\u001b[0m, in \u001b[0;36mDispatcher.call\u001b[1;34m(self, args, griddim, blockdim, stream, sharedmem)\u001b[0m\n\u001b[0;32m   1000\u001b[0m \u001b[38;5;28;01melse\u001b[39;00m:\n\u001b[0;32m   1001\u001b[0m     kernel \u001b[38;5;241m=\u001b[39m _dispatcher\u001b[38;5;241m.\u001b[39mDispatcher\u001b[38;5;241m.\u001b[39m_cuda_call(\u001b[38;5;28mself\u001b[39m, \u001b[38;5;241m*\u001b[39margs)\n\u001b[1;32m-> 1003\u001b[0m \u001b[43mkernel\u001b[49m\u001b[38;5;241;43m.\u001b[39;49m\u001b[43mlaunch\u001b[49m\u001b[43m(\u001b[49m\u001b[43margs\u001b[49m\u001b[43m,\u001b[49m\u001b[43m \u001b[49m\u001b[43mgriddim\u001b[49m\u001b[43m,\u001b[49m\u001b[43m \u001b[49m\u001b[43mblockdim\u001b[49m\u001b[43m,\u001b[49m\u001b[43m \u001b[49m\u001b[43mstream\u001b[49m\u001b[43m,\u001b[49m\u001b[43m \u001b[49m\u001b[43msharedmem\u001b[49m\u001b[43m)\u001b[49m\n",
      "File \u001b[1;32m~\\anaconda3\\envs\\python38\\lib\\site-packages\\numba\\cuda\\compiler.py:773\u001b[0m, in \u001b[0;36m_Kernel.launch\u001b[1;34m(self, args, griddim, blockdim, stream, sharedmem)\u001b[0m\n\u001b[0;32m    771\u001b[0m \u001b[38;5;66;03m# retrieve auto converted arrays\u001b[39;00m\n\u001b[0;32m    772\u001b[0m \u001b[38;5;28;01mfor\u001b[39;00m wb \u001b[38;5;129;01min\u001b[39;00m retr:\n\u001b[1;32m--> 773\u001b[0m     \u001b[43mwb\u001b[49m\u001b[43m(\u001b[49m\u001b[43m)\u001b[49m\n",
      "File \u001b[1;32m~\\anaconda3\\envs\\python38\\lib\\site-packages\\numba\\cuda\\args.py:62\u001b[0m, in \u001b[0;36mInOut.to_device.<locals>.<lambda>\u001b[1;34m()\u001b[0m\n\u001b[0;32m     58\u001b[0m devary, conv \u001b[38;5;241m=\u001b[39m auto_device(\n\u001b[0;32m     59\u001b[0m     \u001b[38;5;28mself\u001b[39m\u001b[38;5;241m.\u001b[39mvalue,\n\u001b[0;32m     60\u001b[0m     stream\u001b[38;5;241m=\u001b[39mstream)\n\u001b[0;32m     61\u001b[0m \u001b[38;5;28;01mif\u001b[39;00m conv:\n\u001b[1;32m---> 62\u001b[0m     retr\u001b[38;5;241m.\u001b[39mappend(\u001b[38;5;28;01mlambda\u001b[39;00m: \u001b[43mdevary\u001b[49m\u001b[38;5;241;43m.\u001b[39;49m\u001b[43mcopy_to_host\u001b[49m\u001b[43m(\u001b[49m\u001b[38;5;28;43mself\u001b[39;49m\u001b[38;5;241;43m.\u001b[39;49m\u001b[43mvalue\u001b[49m\u001b[43m,\u001b[49m\u001b[43m \u001b[49m\u001b[43mstream\u001b[49m\u001b[38;5;241;43m=\u001b[39;49m\u001b[43mstream\u001b[49m\u001b[43m)\u001b[49m)\n\u001b[0;32m     63\u001b[0m \u001b[38;5;28;01mreturn\u001b[39;00m devary\n",
      "File \u001b[1;32m~\\anaconda3\\envs\\python38\\lib\\site-packages\\numba\\cuda\\cudadrv\\devices.py:224\u001b[0m, in \u001b[0;36mrequire_context.<locals>._require_cuda_context\u001b[1;34m(*args, **kws)\u001b[0m\n\u001b[0;32m    221\u001b[0m \u001b[38;5;129m@functools\u001b[39m\u001b[38;5;241m.\u001b[39mwraps(fn)\n\u001b[0;32m    222\u001b[0m \u001b[38;5;28;01mdef\u001b[39;00m \u001b[38;5;21m_require_cuda_context\u001b[39m(\u001b[38;5;241m*\u001b[39margs, \u001b[38;5;241m*\u001b[39m\u001b[38;5;241m*\u001b[39mkws):\n\u001b[0;32m    223\u001b[0m     \u001b[38;5;28;01mwith\u001b[39;00m _runtime\u001b[38;5;241m.\u001b[39mensure_context():\n\u001b[1;32m--> 224\u001b[0m         \u001b[38;5;28;01mreturn\u001b[39;00m \u001b[43mfn\u001b[49m\u001b[43m(\u001b[49m\u001b[38;5;241;43m*\u001b[39;49m\u001b[43margs\u001b[49m\u001b[43m,\u001b[49m\u001b[43m \u001b[49m\u001b[38;5;241;43m*\u001b[39;49m\u001b[38;5;241;43m*\u001b[39;49m\u001b[43mkws\u001b[49m\u001b[43m)\u001b[49m\n",
      "File \u001b[1;32m~\\anaconda3\\envs\\python38\\lib\\site-packages\\numba\\cuda\\cudadrv\\devicearray.py:263\u001b[0m, in \u001b[0;36mDeviceNDArrayBase.copy_to_host\u001b[1;34m(self, ary, stream)\u001b[0m\n\u001b[0;32m    260\u001b[0m     hostary \u001b[38;5;241m=\u001b[39m ary\n\u001b[0;32m    262\u001b[0m \u001b[38;5;28;01mif\u001b[39;00m \u001b[38;5;28mself\u001b[39m\u001b[38;5;241m.\u001b[39malloc_size \u001b[38;5;241m!=\u001b[39m \u001b[38;5;241m0\u001b[39m:\n\u001b[1;32m--> 263\u001b[0m     \u001b[43m_driver\u001b[49m\u001b[38;5;241;43m.\u001b[39;49m\u001b[43mdevice_to_host\u001b[49m\u001b[43m(\u001b[49m\u001b[43mhostary\u001b[49m\u001b[43m,\u001b[49m\u001b[43m \u001b[49m\u001b[38;5;28;43mself\u001b[39;49m\u001b[43m,\u001b[49m\u001b[43m \u001b[49m\u001b[38;5;28;43mself\u001b[39;49m\u001b[38;5;241;43m.\u001b[39;49m\u001b[43malloc_size\u001b[49m\u001b[43m,\u001b[49m\n\u001b[0;32m    264\u001b[0m \u001b[43m                           \u001b[49m\u001b[43mstream\u001b[49m\u001b[38;5;241;43m=\u001b[39;49m\u001b[43mstream\u001b[49m\u001b[43m)\u001b[49m\n\u001b[0;32m    266\u001b[0m \u001b[38;5;28;01mif\u001b[39;00m ary \u001b[38;5;129;01mis\u001b[39;00m \u001b[38;5;28;01mNone\u001b[39;00m:\n\u001b[0;32m    267\u001b[0m     \u001b[38;5;28;01mif\u001b[39;00m \u001b[38;5;28mself\u001b[39m\u001b[38;5;241m.\u001b[39msize \u001b[38;5;241m==\u001b[39m \u001b[38;5;241m0\u001b[39m:\n",
      "File \u001b[1;32m~\\anaconda3\\envs\\python38\\lib\\site-packages\\numba\\cuda\\cudadrv\\driver.py:2431\u001b[0m, in \u001b[0;36mdevice_to_host\u001b[1;34m(dst, src, size, stream)\u001b[0m\n\u001b[0;32m   2428\u001b[0m \u001b[38;5;28;01melse\u001b[39;00m:\n\u001b[0;32m   2429\u001b[0m     fn \u001b[38;5;241m=\u001b[39m driver\u001b[38;5;241m.\u001b[39mcuMemcpyDtoH\n\u001b[1;32m-> 2431\u001b[0m \u001b[43mfn\u001b[49m\u001b[43m(\u001b[49m\u001b[43mhost_pointer\u001b[49m\u001b[43m(\u001b[49m\u001b[43mdst\u001b[49m\u001b[43m)\u001b[49m\u001b[43m,\u001b[49m\u001b[43m \u001b[49m\u001b[43mdevice_pointer\u001b[49m\u001b[43m(\u001b[49m\u001b[43msrc\u001b[49m\u001b[43m)\u001b[49m\u001b[43m,\u001b[49m\u001b[43m \u001b[49m\u001b[43msize\u001b[49m\u001b[43m,\u001b[49m\u001b[43m \u001b[49m\u001b[38;5;241;43m*\u001b[39;49m\u001b[43mvarargs\u001b[49m\u001b[43m)\u001b[49m\n",
      "File \u001b[1;32m~\\anaconda3\\envs\\python38\\lib\\site-packages\\numba\\cuda\\cudadrv\\driver.py:303\u001b[0m, in \u001b[0;36mDriver._wrap_api_call.<locals>.safe_cuda_api_call\u001b[1;34m(*args)\u001b[0m\n\u001b[0;32m    301\u001b[0m _logger\u001b[38;5;241m.\u001b[39mdebug(\u001b[38;5;124m'\u001b[39m\u001b[38;5;124mcall driver api: \u001b[39m\u001b[38;5;132;01m%s\u001b[39;00m\u001b[38;5;124m'\u001b[39m, libfn\u001b[38;5;241m.\u001b[39m\u001b[38;5;18m__name__\u001b[39m)\n\u001b[0;32m    302\u001b[0m retcode \u001b[38;5;241m=\u001b[39m libfn(\u001b[38;5;241m*\u001b[39margs)\n\u001b[1;32m--> 303\u001b[0m \u001b[38;5;28;43mself\u001b[39;49m\u001b[38;5;241;43m.\u001b[39;49m\u001b[43m_check_error\u001b[49m\u001b[43m(\u001b[49m\u001b[43mfname\u001b[49m\u001b[43m,\u001b[49m\u001b[43m \u001b[49m\u001b[43mretcode\u001b[49m\u001b[43m)\u001b[49m\n",
      "File \u001b[1;32m~\\anaconda3\\envs\\python38\\lib\\site-packages\\numba\\cuda\\cudadrv\\driver.py:343\u001b[0m, in \u001b[0;36mDriver._check_error\u001b[1;34m(self, fname, retcode)\u001b[0m\n\u001b[0;32m    341\u001b[0m         _logger\u001b[38;5;241m.\u001b[39mcritical(msg, _getpid(), \u001b[38;5;28mself\u001b[39m\u001b[38;5;241m.\u001b[39mpid)\n\u001b[0;32m    342\u001b[0m         \u001b[38;5;28;01mraise\u001b[39;00m CudaDriverError(\u001b[38;5;124m\"\u001b[39m\u001b[38;5;124mCUDA initialized before forking\u001b[39m\u001b[38;5;124m\"\u001b[39m)\n\u001b[1;32m--> 343\u001b[0m \u001b[38;5;28;01mraise\u001b[39;00m CudaAPIError(retcode, msg)\n",
      "\u001b[1;31mCudaAPIError\u001b[0m: [700] Call to cuMemcpyDtoH results in UNKNOWN_CUDA_ERROR"
     ]
    }
   ],
   "source": [
    "q_array_MD = np.linspace(0.1, 2.2, num=50)\n",
    "\n",
    "output_intensity_holder = np.zeros((61, 50))\n",
    "\n",
    "for file_idx in range(61):        \n",
    "    # Loop through each file\n",
    "    tic = time.time()\n",
    "    (a_num,\n",
    "     box_size,\n",
    "     a_types,\n",
    "     a_positions) = ScatteringInfoMD.load_atom_info(\n",
    "        \"C:/Users/haoyuan/Desktop/MD_output/atom.position.{}\".format(file_idx_list[file_idx]))\n",
    "    toc = time.time()\n",
    "    print(\"It takes {:.2e} seconds to load the atom positions\".format(toc - tic))\n",
    "\n",
    "    # Get Sort the beam\n",
    "    (a_type_list,\n",
    "     a_type_initial,\n",
    "     a_type_count,\n",
    "     a_type_sorted,\n",
    "     a_position_sorted) = ScatteringInfoMD.categorize_atoms(atom_types=a_types, position_holder=a_positions)\n",
    "    \n",
    "    # Loop through all Q values\n",
    "    for q_idx in range(50):\n",
    "        q_list = ScatteringInfoMD.get_q_vector_list_in_range(box_size_xyz_A=box_size[:,1] - box_size[:,0],\n",
    "                                                             q_low_A=q_array_MD[q_idx] - 0.01,\n",
    "                                                             q_high_A=q_array_MD[q_idx] + 0.01)\n",
    "        print(q_list.shape)\n",
    "        \n",
    "        MD_formfactor = ScatteringInfoMD.get_MD_formfactor_at_Q_list(q_list_A=q_list,\n",
    "                                                          atom_position_array=a_position_sorted,\n",
    "                                                          atom_type_array=a_type_sorted,\n",
    "                                                          atom_type_name_list=[\"O\", \"H\"])\n",
    "\n",
    "        scattering_intensity = ScatteringInfoMD.get_diffracted_flux_with_MD_formfactor(in_flux=I_in,\n",
    "                                                                                       dOmega=omega,\n",
    "                                                                                       q_in=util.kev_to_wavevec_A(photon_energy),\n",
    "                                                                                       d_eff_m = d_eff,\n",
    "                                                                                       box_size_A = box_size,\n",
    "                                                                                       q_list_A = q_list,\n",
    "                                                                                       formfactorMD = MD_formfactor)\n",
    "        output_intensity_holder[file_idx, q_idx] = np.mean(scattering_intensity)"
   ]
  },
  {
   "cell_type": "code",
   "execution_count": 7,
   "metadata": {},
   "outputs": [
    {
     "data": {
      "text/plain": [
       "array([[3.96628690e-17, 3.90077631e-17, 3.95187911e-17, ...,\n",
       "        3.78288872e-15, 3.93162841e-15, 8.13754227e-12],\n",
       "       [3.96632709e-17, 3.91855402e-17, 3.87685549e-17, ...,\n",
       "        3.83638249e-15, 2.12298983e-14, 4.06985241e-15],\n",
       "       [3.96675666e-17, 3.93043565e-17, 1.73998041e-12, ...,\n",
       "        3.83096772e-15, 8.53303734e-12, 4.47393351e-12],\n",
       "       ...,\n",
       "       [0.00000000e+00, 0.00000000e+00, 0.00000000e+00, ...,\n",
       "        0.00000000e+00, 0.00000000e+00, 0.00000000e+00],\n",
       "       [0.00000000e+00, 0.00000000e+00, 0.00000000e+00, ...,\n",
       "        0.00000000e+00, 0.00000000e+00, 0.00000000e+00],\n",
       "       [0.00000000e+00, 0.00000000e+00, 0.00000000e+00, ...,\n",
       "        0.00000000e+00, 0.00000000e+00, 0.00000000e+00]])"
      ]
     },
     "execution_count": 7,
     "metadata": {},
     "output_type": "execute_result"
    }
   ],
   "source": [
    "plt.imshow(output_intensity_holder)"
   ]
  },
  {
   "cell_type": "code",
   "execution_count": null,
   "metadata": {},
   "outputs": [],
   "source": []
  }
 ],
 "metadata": {
  "kernelspec": {
   "display_name": "Python 3 (ipykernel)",
   "language": "python",
   "name": "python3"
  },
  "language_info": {
   "codemirror_mode": {
    "name": "ipython",
    "version": 3
   },
   "file_extension": ".py",
   "mimetype": "text/x-python",
   "name": "python",
   "nbconvert_exporter": "python",
   "pygments_lexer": "ipython3",
   "version": "3.8.13"
  }
 },
 "nbformat": 4,
 "nbformat_minor": 4
}
