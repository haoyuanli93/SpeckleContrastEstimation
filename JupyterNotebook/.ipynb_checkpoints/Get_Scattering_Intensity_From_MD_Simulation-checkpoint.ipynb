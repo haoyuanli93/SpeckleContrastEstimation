{
 "cells": [
  {
   "cell_type": "code",
   "execution_count": 1,
   "metadata": {},
   "outputs": [],
   "source": [
    "import numpy as np\n",
    "import time\n",
    "import sys\n",
    "sys.path.append(\"C:/Users/haoyuan/Documents/GitHub/SpeckleContrastEstimation/\")\n",
    "\n",
    "from numba import cuda\n",
    "import math\n",
    "from ContrastEstimation.AtomFormFactor import get_atomic_formfactor"
   ]
  },
  {
   "cell_type": "code",
   "execution_count": 2,
   "metadata": {},
   "outputs": [],
   "source": [
    "def load_atom_info(file_name):\n",
    "    \"\"\"\n",
    "    Parse the lammps output file\n",
    "    :param file_name:\n",
    "    :return:\n",
    "    \"\"\"\n",
    "    with open(file_name, 'r') as data_file:\n",
    "        #################################\n",
    "        # Get the atom number\n",
    "        #################################\n",
    "        for idx in range(4):\n",
    "            my_line = data_file.readline()\n",
    "        atom_num = int(my_line)\n",
    "\n",
    "        print(\"There are {:.2e} atoms in this file.\".format(atom_num))\n",
    "\n",
    "        ################################\n",
    "        # Get the box size\n",
    "        ################################\n",
    "        my_line = data_file.readline()\n",
    "\n",
    "        my_line = data_file.readline().split()\n",
    "        xlo = float(my_line[0])\n",
    "        xhi = float(my_line[1])\n",
    "\n",
    "        my_line = data_file.readline().split()\n",
    "        ylo = float(my_line[0])\n",
    "        yhi = float(my_line[1])\n",
    "\n",
    "        my_line = data_file.readline().split()\n",
    "        zlo = float(my_line[0])\n",
    "        zhi = float(my_line[1])\n",
    "\n",
    "        ################################\n",
    "        # Get the atom type and position\n",
    "        ################################\n",
    "        # Create holders for different info\n",
    "        type_holder = np.zeros(atom_num, dtype=np.int64)\n",
    "        position_holder = np.zeros((atom_num, 3), dtype=np.float64)\n",
    "\n",
    "        # Skip the line of description\n",
    "        _ = data_file.readline().split()\n",
    "\n",
    "        # Loop through the remaining lines\n",
    "        for atom_idx in range(atom_num):\n",
    "            info = data_file.readline().split()\n",
    "            type_holder[atom_idx] = int(info[1])\n",
    "            position_holder[atom_idx, :] = np.array([float(info[2]), float(info[3]), float(info[4])],\n",
    "                                                    dtype=np.float64)\n",
    "\n",
    "    return atom_num, np.array([[xlo, xhi], [ylo, yhi], [zlo, zhi]]), type_holder, position_holder"
   ]
  },
  {
   "cell_type": "code",
   "execution_count": 3,
   "metadata": {},
   "outputs": [
    {
     "name": "stdout",
     "output_type": "stream",
     "text": [
      "There are 6.84e+04 atoms in this file.\n",
      "There are 6.84e+04 atoms in this file.\n",
      "It takes 2.07e-01 seconds to load the atom positions\n",
      "It takes 2.07e-01 seconds to load the atom positions\n"
     ]
    }
   ],
   "source": [
    "tic = time.time()\n",
    "a_num, box_size, a_types, a_positions = load_atom_info(\"C:/Users/haoyuan/Desktop/atom.position.5000\")\n",
    "toc = time.time()\n",
    "print(\"It takes {:.2e} seconds to load the atom positions\".format(toc - tic))"
   ]
  },
  {
   "cell_type": "markdown",
   "metadata": {},
   "source": [
    "# Divide the atoms into different groups to calculate the scattering intensity"
   ]
  },
  {
   "cell_type": "code",
   "execution_count": 4,
   "metadata": {},
   "outputs": [],
   "source": [
    "def categorize_atoms(atom_types, position_holder):\n",
    "    \"\"\"\n",
    "\n",
    "    :param atom_types:\n",
    "    :param position_holder:\n",
    "    :return:\n",
    "    \"\"\"\n",
    "\n",
    "    # Get different number of atom_types\n",
    "    atom_type_list, atom_type_count = np.unique(atom_types, return_counts=True)\n",
    "    atom_type_num = atom_type_list.shape[0]\n",
    "\n",
    "    # Sort the atom_types array based on the type\n",
    "    sorted_idx = np.argsort(atom_types)\n",
    "\n",
    "    # Get the sorted array\n",
    "    atom_type_sorted = atom_types[sorted_idx]\n",
    "    position_sorted = position_holder[sorted_idx]\n",
    "\n",
    "    # Get the index of the start and end of each kind of atoms\n",
    "    atom_type_list, atom_type_start_idx, atom_type_count = np.unique(atom_type_sorted,\n",
    "                                                                     return_index=True,\n",
    "                                                                     return_counts=True)\n",
    "\n",
    "    return atom_type_list, atom_type_start_idx, atom_type_count, atom_type_sorted, position_sorted"
   ]
  },
  {
   "cell_type": "code",
   "execution_count": 5,
   "metadata": {},
   "outputs": [],
   "source": [
    "(a_type_list,\n",
    " a_type_initial,\n",
    " a_type_count,\n",
    " a_type_sorted,\n",
    " a_position_sorted) = categorize_atoms(atom_types=a_types, position_holder=a_positions)"
   ]
  },
  {
   "cell_type": "markdown",
   "metadata": {},
   "source": [
    "# Get the diffraction intensity"
   ]
  },
  {
   "cell_type": "code",
   "execution_count": 6,
   "metadata": {},
   "outputs": [],
   "source": [
    "def get_q_vector_list_in_range(box_size_xyz_A, q_low_A, q_high_A):\n",
    "    \"\"\"\n",
    "    Get the q vector list in the range between q_low_A and q_high_A\n",
    "\n",
    "    :param box_size_xyz_A:\n",
    "    :param q_low_A:\n",
    "    :param q_high_A:\n",
    "    :return:\n",
    "    \"\"\"\n",
    "\n",
    "    q_min_x = np.pi * 2 / box_size_xyz_A[0]\n",
    "    q_min_y = np.pi * 2 / box_size_xyz_A[1]\n",
    "    q_min_z = np.pi * 2 / box_size_xyz_A[2]\n",
    "\n",
    "    # Get the number of q to calculate\n",
    "    q_num_x = int(q_high_A / q_min_x) + 1\n",
    "    q_num_y = int(q_high_A / q_min_y) + 1\n",
    "    q_num_z = int(q_high_A / q_min_z) + 1\n",
    "\n",
    "    # Define a Q grid\n",
    "    q_grid = np.zeros((2 * q_num_x + 1,\n",
    "                       2 * q_num_y + 1,\n",
    "                       2 * q_num_z + 1,\n",
    "                       3), dtype=np.float64)\n",
    "\n",
    "    q_grid[:, :, :, 0] = q_min_x * np.arange(start=-q_num_x, stop=q_num_x + 1, step=1)[:, np.newaxis, np.newaxis]\n",
    "    q_grid[:, :, :, 1] = q_min_y * np.arange(start=-q_num_y, stop=q_num_y + 1, step=1)[np.newaxis, :, np.newaxis]\n",
    "    q_grid[:, :, :, 2] = q_min_z * np.arange(start=-q_num_z, stop=q_num_z + 1, step=1)[np.newaxis, np.newaxis, :]\n",
    "\n",
    "    q_length = np.linalg.norm(q_grid, axis=-1)\n",
    "\n",
    "    # Reshape the Q grid\n",
    "    q_num_tot = (2 * q_num_x + 1) * (2 * q_num_y + 1) * (2 * q_num_z + 1)\n",
    "    q_grid = np.reshape(q_grid, newshape=(q_num_tot, 3))\n",
    "    q_length = np.reshape(q_length, newshape=q_num_tot)\n",
    "\n",
    "    # Get the q_list with in the range\n",
    "    return np.ascontiguousarray(q_grid[(q_length < q_high_A) & (q_length > q_low_A)])\n"
   ]
  },
  {
   "cell_type": "code",
   "execution_count": 7,
   "metadata": {},
   "outputs": [],
   "source": [
    "q_list = get_q_vector_list_in_range(box_size_xyz_A=box_size[:,1] - box_size[:,0],\n",
    "                           q_low_A=0.1 - 0.01,\n",
    "                           q_high_A=0.1 + 0.01)"
   ]
  },
  {
   "cell_type": "code",
   "execution_count": 12,
   "metadata": {},
   "outputs": [],
   "source": [
    "@cuda.jit('void(float64[:], float64[:], float64[:,:], float64[:,:], float64[:,:], float64[:], int64, int64, int64)')\n",
    "def _get_diffracted_field_at_Q_list(cos_holder, sin_holder,\n",
    "                                    form_factor_list, q_list, atom_position,\n",
    "                                    split_idx, atom_type_num, q_num, atom_num):\n",
    "    atom_iter = cuda.grid(1)\n",
    "    if atom_iter < atom_num:\n",
    "\n",
    "        # Determine the atom type\n",
    "        atom_type = 0\n",
    "        for atom_type_idx in range(atom_type_num):\n",
    "            atom_type += int(atom_iter > split_idx[atom_type_idx])\n",
    "\n",
    "        # Calculate the Q\n",
    "        for q_idx in range(q_num):\n",
    "            form_factor = form_factor_list[atom_type, q_idx]\n",
    "\n",
    "            phase = (q_list[q_idx, 0] * atom_position[atom_iter, 0] +\n",
    "                     q_list[q_idx, 1] * atom_position[atom_iter, 1] +\n",
    "                     q_list[q_idx, 2] * atom_position[atom_iter, 2])\n",
    "            \n",
    "            cuda.atomic.add(cos_holder, q_idx, form_factor * math.cos(phase) )\n",
    "            cuda.atomic.add(sin_holder, q_idx, form_factor * math.sin(phase) )\n",
    "\n",
    "\n",
    "def get_diffracted_field_at_Q_list(q_list_A, atom_position_array, atom_type_array, atom_type_name_list):\n",
    "    \"\"\"\n",
    "\n",
    "    :param q_list_A:\n",
    "    :param atom_position_array:\n",
    "    :param atom_type_array:\n",
    "    :param atom_type_name_list:\n",
    "    :return:\n",
    "    \"\"\"\n",
    "\n",
    "    atom_num = atom_type_array.shape[0]\n",
    "    \n",
    "    # convert the reciprocal space into a 1d series.\n",
    "    q_len_array = np.linalg.norm(q_list_A, axis=-1)\n",
    "    q_num = q_list_A.shape[0]\n",
    "\n",
    "    # Organize the atom info\n",
    "    (atom_type_unique,\n",
    "     atom_type_start_point,\n",
    "     atom_type_count,\n",
    "     atom_type_sorted,\n",
    "     atom_position_sorted) = categorize_atoms(atom_types=atom_type_array, position_holder=atom_position_array)\n",
    "\n",
    "    # Get the form factor of each atom at each reciprocal point\n",
    "    form_factor_list = np.zeros((len(atom_type_name_list), q_num), dtype=np.float64)\n",
    "    for atom_type_idx in range(len(atom_type_name_list)):\n",
    "        for q_idx in range(q_num):\n",
    "            form_factor_list[atom_type_idx, q_idx] = get_atomic_formfactor(atom_name=atom_type_name_list[atom_type_idx],\n",
    "                                                                           q_detector_in_A=q_len_array[q_idx])\n",
    "\n",
    "    # create\n",
    "    cos_holder = np.zeros(q_num, dtype=np.float64)\n",
    "    sin_holder = np.zeros(q_num, dtype=np.float64)\n",
    "\n",
    "    # Calculate the pattern\n",
    "    _get_diffracted_field_at_Q_list[(atom_num + 511) / 512, 512](cos_holder,\n",
    "                                                              sin_holder,\n",
    "                                                              form_factor_list,\n",
    "                                                              np.ascontiguousarray(q_list_A),\n",
    "                                                              atom_position_sorted,\n",
    "                                                              atom_type_start_point,\n",
    "                                                              len(atom_type_name_list),\n",
    "                                                              q_num,\n",
    "                                                              atom_num)\n",
    "\n",
    "    return cos_holder + 1.j * sin_holder"
   ]
  },
  {
   "cell_type": "code",
   "execution_count": 13,
   "metadata": {},
   "outputs": [
    {
     "ename": "TypeError",
     "evalue": "griddim must be a sequence of integers, got [134.556640625]",
     "output_type": "error",
     "traceback": [
      "\u001b[1;31m---------------------------------------------------------------------------\u001b[0m",
      "\u001b[1;31mTypeError\u001b[0m                                 Traceback (most recent call last)",
      "Input \u001b[1;32mIn [13]\u001b[0m, in \u001b[0;36m<cell line: 1>\u001b[1;34m()\u001b[0m\n\u001b[1;32m----> 1\u001b[0m diffracted \u001b[38;5;241m=\u001b[39m \u001b[43mget_diffracted_field_at_Q_list\u001b[49m\u001b[43m(\u001b[49m\u001b[43mq_list_A\u001b[49m\u001b[38;5;241;43m=\u001b[39;49m\u001b[43mq_list\u001b[49m\u001b[43m,\u001b[49m\n\u001b[0;32m      2\u001b[0m \u001b[43m                                            \u001b[49m\u001b[43matom_position_array\u001b[49m\u001b[38;5;241;43m=\u001b[39;49m\u001b[43ma_position_sorted\u001b[49m\u001b[43m,\u001b[49m\n\u001b[0;32m      3\u001b[0m \u001b[43m                                            \u001b[49m\u001b[43matom_type_array\u001b[49m\u001b[38;5;241;43m=\u001b[39;49m\u001b[43ma_type_sorted\u001b[49m\u001b[43m,\u001b[49m\n\u001b[0;32m      4\u001b[0m \u001b[43m                                            \u001b[49m\u001b[43matom_type_name_list\u001b[49m\u001b[38;5;241;43m=\u001b[39;49m\u001b[43m[\u001b[49m\u001b[38;5;124;43m\"\u001b[39;49m\u001b[38;5;124;43mO\u001b[39;49m\u001b[38;5;124;43m\"\u001b[39;49m\u001b[43m,\u001b[49m\u001b[43m \u001b[49m\u001b[38;5;124;43m\"\u001b[39;49m\u001b[38;5;124;43mH\u001b[39;49m\u001b[38;5;124;43m\"\u001b[39;49m\u001b[43m]\u001b[49m\u001b[43m)\u001b[49m\n",
      "Input \u001b[1;32mIn [12]\u001b[0m, in \u001b[0;36mget_diffracted_field_at_Q_list\u001b[1;34m(q_list_A, atom_position_array, atom_type_array, atom_type_name_list)\u001b[0m\n\u001b[0;32m     57\u001b[0m sin_holder \u001b[38;5;241m=\u001b[39m np\u001b[38;5;241m.\u001b[39mzeros(q_num, dtype\u001b[38;5;241m=\u001b[39mnp\u001b[38;5;241m.\u001b[39mfloat64)\n\u001b[0;32m     59\u001b[0m \u001b[38;5;66;03m# Calculate the pattern\u001b[39;00m\n\u001b[1;32m---> 60\u001b[0m \u001b[43m_get_diffracted_field_at_Q_list\u001b[49m\u001b[43m[\u001b[49m\u001b[43m(\u001b[49m\u001b[43matom_num\u001b[49m\u001b[43m \u001b[49m\u001b[38;5;241;43m+\u001b[39;49m\u001b[43m \u001b[49m\u001b[38;5;241;43m511\u001b[39;49m\u001b[43m)\u001b[49m\u001b[43m \u001b[49m\u001b[38;5;241;43m/\u001b[39;49m\u001b[43m \u001b[49m\u001b[38;5;241;43m512\u001b[39;49m\u001b[43m,\u001b[49m\u001b[43m \u001b[49m\u001b[38;5;241;43m512\u001b[39;49m\u001b[43m]\u001b[49m(cos_holder,\n\u001b[0;32m     61\u001b[0m                                                           sin_holder,\n\u001b[0;32m     62\u001b[0m                                                           form_factor_list,\n\u001b[0;32m     63\u001b[0m                                                           np\u001b[38;5;241m.\u001b[39mascontiguousarray(q_list_A),\n\u001b[0;32m     64\u001b[0m                                                           atom_position_sorted,\n\u001b[0;32m     65\u001b[0m                                                           atom_type_start_point,\n\u001b[0;32m     66\u001b[0m                                                           \u001b[38;5;28mlen\u001b[39m(atom_type_name_list),\n\u001b[0;32m     67\u001b[0m                                                           q_num,\n\u001b[0;32m     68\u001b[0m                                                           atom_num)\n\u001b[0;32m     70\u001b[0m \u001b[38;5;28;01mreturn\u001b[39;00m cos_holder \u001b[38;5;241m+\u001b[39m \u001b[38;5;241m1.\u001b[39mj \u001b[38;5;241m*\u001b[39m sin_holder\n",
      "File \u001b[1;32m~\\.conda\\envs\\python38\\lib\\site-packages\\numba\\cuda\\compiler.py:946\u001b[0m, in \u001b[0;36mDispatcher.__getitem__\u001b[1;34m(self, args)\u001b[0m\n\u001b[0;32m    944\u001b[0m \u001b[38;5;28;01mif\u001b[39;00m \u001b[38;5;28mlen\u001b[39m(args) \u001b[38;5;129;01mnot\u001b[39;00m \u001b[38;5;129;01min\u001b[39;00m [\u001b[38;5;241m2\u001b[39m, \u001b[38;5;241m3\u001b[39m, \u001b[38;5;241m4\u001b[39m]:\n\u001b[0;32m    945\u001b[0m     \u001b[38;5;28;01mraise\u001b[39;00m \u001b[38;5;167;01mValueError\u001b[39;00m(\u001b[38;5;124m'\u001b[39m\u001b[38;5;124mmust specify at least the griddim and blockdim\u001b[39m\u001b[38;5;124m'\u001b[39m)\n\u001b[1;32m--> 946\u001b[0m \u001b[38;5;28;01mreturn\u001b[39;00m \u001b[38;5;28;43mself\u001b[39;49m\u001b[38;5;241;43m.\u001b[39;49m\u001b[43mconfigure\u001b[49m\u001b[43m(\u001b[49m\u001b[38;5;241;43m*\u001b[39;49m\u001b[43margs\u001b[49m\u001b[43m)\u001b[49m\n",
      "File \u001b[1;32m~\\.conda\\envs\\python38\\lib\\site-packages\\numba\\cuda\\compiler.py:940\u001b[0m, in \u001b[0;36mDispatcher.configure\u001b[1;34m(self, griddim, blockdim, stream, sharedmem)\u001b[0m\n\u001b[0;32m    939\u001b[0m \u001b[38;5;28;01mdef\u001b[39;00m \u001b[38;5;21mconfigure\u001b[39m(\u001b[38;5;28mself\u001b[39m, griddim, blockdim, stream\u001b[38;5;241m=\u001b[39m\u001b[38;5;241m0\u001b[39m, sharedmem\u001b[38;5;241m=\u001b[39m\u001b[38;5;241m0\u001b[39m):\n\u001b[1;32m--> 940\u001b[0m     griddim, blockdim \u001b[38;5;241m=\u001b[39m \u001b[43mnormalize_kernel_dimensions\u001b[49m\u001b[43m(\u001b[49m\u001b[43mgriddim\u001b[49m\u001b[43m,\u001b[49m\u001b[43m \u001b[49m\u001b[43mblockdim\u001b[49m\u001b[43m)\u001b[49m\n\u001b[0;32m    941\u001b[0m     \u001b[38;5;28;01mreturn\u001b[39;00m _KernelConfiguration(\u001b[38;5;28mself\u001b[39m, griddim, blockdim, stream, sharedmem)\n",
      "File \u001b[1;32m~\\.conda\\envs\\python38\\lib\\site-packages\\numba\\cuda\\errors.py:51\u001b[0m, in \u001b[0;36mnormalize_kernel_dimensions\u001b[1;34m(griddim, blockdim)\u001b[0m\n\u001b[0;32m     48\u001b[0m \u001b[38;5;28;01mif\u001b[39;00m \u001b[38;5;28;01mNone\u001b[39;00m \u001b[38;5;129;01min\u001b[39;00m (griddim, blockdim):\n\u001b[0;32m     49\u001b[0m     \u001b[38;5;28;01mraise\u001b[39;00m \u001b[38;5;167;01mValueError\u001b[39;00m(missing_launch_config_msg)\n\u001b[1;32m---> 51\u001b[0m griddim \u001b[38;5;241m=\u001b[39m \u001b[43mcheck_dim\u001b[49m\u001b[43m(\u001b[49m\u001b[43mgriddim\u001b[49m\u001b[43m,\u001b[49m\u001b[43m \u001b[49m\u001b[38;5;124;43m'\u001b[39;49m\u001b[38;5;124;43mgriddim\u001b[39;49m\u001b[38;5;124;43m'\u001b[39;49m\u001b[43m)\u001b[49m\n\u001b[0;32m     52\u001b[0m blockdim \u001b[38;5;241m=\u001b[39m check_dim(blockdim, \u001b[38;5;124m'\u001b[39m\u001b[38;5;124mblockdim\u001b[39m\u001b[38;5;124m'\u001b[39m)\n\u001b[0;32m     54\u001b[0m \u001b[38;5;28;01mreturn\u001b[39;00m griddim, blockdim\n",
      "File \u001b[1;32m~\\.conda\\envs\\python38\\lib\\site-packages\\numba\\cuda\\errors.py:42\u001b[0m, in \u001b[0;36mnormalize_kernel_dimensions.<locals>.check_dim\u001b[1;34m(dim, name)\u001b[0m\n\u001b[0;32m     40\u001b[0m \u001b[38;5;28;01mfor\u001b[39;00m v \u001b[38;5;129;01min\u001b[39;00m dim:\n\u001b[0;32m     41\u001b[0m     \u001b[38;5;28;01mif\u001b[39;00m \u001b[38;5;129;01mnot\u001b[39;00m \u001b[38;5;28misinstance\u001b[39m(v, numbers\u001b[38;5;241m.\u001b[39mIntegral):\n\u001b[1;32m---> 42\u001b[0m         \u001b[38;5;28;01mraise\u001b[39;00m \u001b[38;5;167;01mTypeError\u001b[39;00m(\u001b[38;5;124m'\u001b[39m\u001b[38;5;132;01m%s\u001b[39;00m\u001b[38;5;124m must be a sequence of integers, got \u001b[39m\u001b[38;5;132;01m%r\u001b[39;00m\u001b[38;5;124m'\u001b[39m\n\u001b[0;32m     43\u001b[0m                         \u001b[38;5;241m%\u001b[39m (name, dim))\n\u001b[0;32m     44\u001b[0m \u001b[38;5;28;01mwhile\u001b[39;00m \u001b[38;5;28mlen\u001b[39m(dim) \u001b[38;5;241m<\u001b[39m \u001b[38;5;241m3\u001b[39m:\n\u001b[0;32m     45\u001b[0m     dim\u001b[38;5;241m.\u001b[39mappend(\u001b[38;5;241m1\u001b[39m)\n",
      "\u001b[1;31mTypeError\u001b[0m: griddim must be a sequence of integers, got [134.556640625]"
     ]
    },
    {
     "ename": "TypeError",
     "evalue": "griddim must be a sequence of integers, got [134.556640625]",
     "output_type": "error",
     "traceback": [
      "\u001b[1;31m---------------------------------------------------------------------------\u001b[0m",
      "\u001b[1;31mTypeError\u001b[0m                                 Traceback (most recent call last)",
      "Input \u001b[1;32mIn [13]\u001b[0m, in \u001b[0;36m<cell line: 1>\u001b[1;34m()\u001b[0m\n\u001b[1;32m----> 1\u001b[0m diffracted \u001b[38;5;241m=\u001b[39m \u001b[43mget_diffracted_field_at_Q_list\u001b[49m\u001b[43m(\u001b[49m\u001b[43mq_list_A\u001b[49m\u001b[38;5;241;43m=\u001b[39;49m\u001b[43mq_list\u001b[49m\u001b[43m,\u001b[49m\n\u001b[0;32m      2\u001b[0m \u001b[43m                                            \u001b[49m\u001b[43matom_position_array\u001b[49m\u001b[38;5;241;43m=\u001b[39;49m\u001b[43ma_position_sorted\u001b[49m\u001b[43m,\u001b[49m\n\u001b[0;32m      3\u001b[0m \u001b[43m                                            \u001b[49m\u001b[43matom_type_array\u001b[49m\u001b[38;5;241;43m=\u001b[39;49m\u001b[43ma_type_sorted\u001b[49m\u001b[43m,\u001b[49m\n\u001b[0;32m      4\u001b[0m \u001b[43m                                            \u001b[49m\u001b[43matom_type_name_list\u001b[49m\u001b[38;5;241;43m=\u001b[39;49m\u001b[43m[\u001b[49m\u001b[38;5;124;43m\"\u001b[39;49m\u001b[38;5;124;43mO\u001b[39;49m\u001b[38;5;124;43m\"\u001b[39;49m\u001b[43m,\u001b[49m\u001b[43m \u001b[49m\u001b[38;5;124;43m\"\u001b[39;49m\u001b[38;5;124;43mH\u001b[39;49m\u001b[38;5;124;43m\"\u001b[39;49m\u001b[43m]\u001b[49m\u001b[43m)\u001b[49m\n",
      "Input \u001b[1;32mIn [12]\u001b[0m, in \u001b[0;36mget_diffracted_field_at_Q_list\u001b[1;34m(q_list_A, atom_position_array, atom_type_array, atom_type_name_list)\u001b[0m\n\u001b[0;32m     57\u001b[0m sin_holder \u001b[38;5;241m=\u001b[39m np\u001b[38;5;241m.\u001b[39mzeros(q_num, dtype\u001b[38;5;241m=\u001b[39mnp\u001b[38;5;241m.\u001b[39mfloat64)\n\u001b[0;32m     59\u001b[0m \u001b[38;5;66;03m# Calculate the pattern\u001b[39;00m\n\u001b[1;32m---> 60\u001b[0m \u001b[43m_get_diffracted_field_at_Q_list\u001b[49m\u001b[43m[\u001b[49m\u001b[43m(\u001b[49m\u001b[43matom_num\u001b[49m\u001b[43m \u001b[49m\u001b[38;5;241;43m+\u001b[39;49m\u001b[43m \u001b[49m\u001b[38;5;241;43m511\u001b[39;49m\u001b[43m)\u001b[49m\u001b[43m \u001b[49m\u001b[38;5;241;43m/\u001b[39;49m\u001b[43m \u001b[49m\u001b[38;5;241;43m512\u001b[39;49m\u001b[43m,\u001b[49m\u001b[43m \u001b[49m\u001b[38;5;241;43m512\u001b[39;49m\u001b[43m]\u001b[49m(cos_holder,\n\u001b[0;32m     61\u001b[0m                                                           sin_holder,\n\u001b[0;32m     62\u001b[0m                                                           form_factor_list,\n\u001b[0;32m     63\u001b[0m                                                           np\u001b[38;5;241m.\u001b[39mascontiguousarray(q_list_A),\n\u001b[0;32m     64\u001b[0m                                                           atom_position_sorted,\n\u001b[0;32m     65\u001b[0m                                                           atom_type_start_point,\n\u001b[0;32m     66\u001b[0m                                                           \u001b[38;5;28mlen\u001b[39m(atom_type_name_list),\n\u001b[0;32m     67\u001b[0m                                                           q_num,\n\u001b[0;32m     68\u001b[0m                                                           atom_num)\n\u001b[0;32m     70\u001b[0m \u001b[38;5;28;01mreturn\u001b[39;00m cos_holder \u001b[38;5;241m+\u001b[39m \u001b[38;5;241m1.\u001b[39mj \u001b[38;5;241m*\u001b[39m sin_holder\n",
      "File \u001b[1;32m~\\.conda\\envs\\python38\\lib\\site-packages\\numba\\cuda\\compiler.py:946\u001b[0m, in \u001b[0;36mDispatcher.__getitem__\u001b[1;34m(self, args)\u001b[0m\n\u001b[0;32m    944\u001b[0m \u001b[38;5;28;01mif\u001b[39;00m \u001b[38;5;28mlen\u001b[39m(args) \u001b[38;5;129;01mnot\u001b[39;00m \u001b[38;5;129;01min\u001b[39;00m [\u001b[38;5;241m2\u001b[39m, \u001b[38;5;241m3\u001b[39m, \u001b[38;5;241m4\u001b[39m]:\n\u001b[0;32m    945\u001b[0m     \u001b[38;5;28;01mraise\u001b[39;00m \u001b[38;5;167;01mValueError\u001b[39;00m(\u001b[38;5;124m'\u001b[39m\u001b[38;5;124mmust specify at least the griddim and blockdim\u001b[39m\u001b[38;5;124m'\u001b[39m)\n\u001b[1;32m--> 946\u001b[0m \u001b[38;5;28;01mreturn\u001b[39;00m \u001b[38;5;28;43mself\u001b[39;49m\u001b[38;5;241;43m.\u001b[39;49m\u001b[43mconfigure\u001b[49m\u001b[43m(\u001b[49m\u001b[38;5;241;43m*\u001b[39;49m\u001b[43margs\u001b[49m\u001b[43m)\u001b[49m\n",
      "File \u001b[1;32m~\\.conda\\envs\\python38\\lib\\site-packages\\numba\\cuda\\compiler.py:940\u001b[0m, in \u001b[0;36mDispatcher.configure\u001b[1;34m(self, griddim, blockdim, stream, sharedmem)\u001b[0m\n\u001b[0;32m    939\u001b[0m \u001b[38;5;28;01mdef\u001b[39;00m \u001b[38;5;21mconfigure\u001b[39m(\u001b[38;5;28mself\u001b[39m, griddim, blockdim, stream\u001b[38;5;241m=\u001b[39m\u001b[38;5;241m0\u001b[39m, sharedmem\u001b[38;5;241m=\u001b[39m\u001b[38;5;241m0\u001b[39m):\n\u001b[1;32m--> 940\u001b[0m     griddim, blockdim \u001b[38;5;241m=\u001b[39m \u001b[43mnormalize_kernel_dimensions\u001b[49m\u001b[43m(\u001b[49m\u001b[43mgriddim\u001b[49m\u001b[43m,\u001b[49m\u001b[43m \u001b[49m\u001b[43mblockdim\u001b[49m\u001b[43m)\u001b[49m\n\u001b[0;32m    941\u001b[0m     \u001b[38;5;28;01mreturn\u001b[39;00m _KernelConfiguration(\u001b[38;5;28mself\u001b[39m, griddim, blockdim, stream, sharedmem)\n",
      "File \u001b[1;32m~\\.conda\\envs\\python38\\lib\\site-packages\\numba\\cuda\\errors.py:51\u001b[0m, in \u001b[0;36mnormalize_kernel_dimensions\u001b[1;34m(griddim, blockdim)\u001b[0m\n\u001b[0;32m     48\u001b[0m \u001b[38;5;28;01mif\u001b[39;00m \u001b[38;5;28;01mNone\u001b[39;00m \u001b[38;5;129;01min\u001b[39;00m (griddim, blockdim):\n\u001b[0;32m     49\u001b[0m     \u001b[38;5;28;01mraise\u001b[39;00m \u001b[38;5;167;01mValueError\u001b[39;00m(missing_launch_config_msg)\n\u001b[1;32m---> 51\u001b[0m griddim \u001b[38;5;241m=\u001b[39m \u001b[43mcheck_dim\u001b[49m\u001b[43m(\u001b[49m\u001b[43mgriddim\u001b[49m\u001b[43m,\u001b[49m\u001b[43m \u001b[49m\u001b[38;5;124;43m'\u001b[39;49m\u001b[38;5;124;43mgriddim\u001b[39;49m\u001b[38;5;124;43m'\u001b[39;49m\u001b[43m)\u001b[49m\n\u001b[0;32m     52\u001b[0m blockdim \u001b[38;5;241m=\u001b[39m check_dim(blockdim, \u001b[38;5;124m'\u001b[39m\u001b[38;5;124mblockdim\u001b[39m\u001b[38;5;124m'\u001b[39m)\n\u001b[0;32m     54\u001b[0m \u001b[38;5;28;01mreturn\u001b[39;00m griddim, blockdim\n",
      "File \u001b[1;32m~\\.conda\\envs\\python38\\lib\\site-packages\\numba\\cuda\\errors.py:42\u001b[0m, in \u001b[0;36mnormalize_kernel_dimensions.<locals>.check_dim\u001b[1;34m(dim, name)\u001b[0m\n\u001b[0;32m     40\u001b[0m \u001b[38;5;28;01mfor\u001b[39;00m v \u001b[38;5;129;01min\u001b[39;00m dim:\n\u001b[0;32m     41\u001b[0m     \u001b[38;5;28;01mif\u001b[39;00m \u001b[38;5;129;01mnot\u001b[39;00m \u001b[38;5;28misinstance\u001b[39m(v, numbers\u001b[38;5;241m.\u001b[39mIntegral):\n\u001b[1;32m---> 42\u001b[0m         \u001b[38;5;28;01mraise\u001b[39;00m \u001b[38;5;167;01mTypeError\u001b[39;00m(\u001b[38;5;124m'\u001b[39m\u001b[38;5;132;01m%s\u001b[39;00m\u001b[38;5;124m must be a sequence of integers, got \u001b[39m\u001b[38;5;132;01m%r\u001b[39;00m\u001b[38;5;124m'\u001b[39m\n\u001b[0;32m     43\u001b[0m                         \u001b[38;5;241m%\u001b[39m (name, dim))\n\u001b[0;32m     44\u001b[0m \u001b[38;5;28;01mwhile\u001b[39;00m \u001b[38;5;28mlen\u001b[39m(dim) \u001b[38;5;241m<\u001b[39m \u001b[38;5;241m3\u001b[39m:\n\u001b[0;32m     45\u001b[0m     dim\u001b[38;5;241m.\u001b[39mappend(\u001b[38;5;241m1\u001b[39m)\n",
      "\u001b[1;31mTypeError\u001b[0m: griddim must be a sequence of integers, got [134.556640625]"
     ]
    }
   ],
   "source": [
    "diffracted = get_diffracted_field_at_Q_list(q_list_A=q_list,\n",
    "                                            atom_position_array=a_position_sorted,\n",
    "                                            atom_type_array=a_type_sorted,\n",
    "                                            atom_type_name_list=[\"O\", \"H\"])"
   ]
  },
  {
   "cell_type": "code",
   "execution_count": 11,
   "metadata": {},
   "outputs": [
    {
     "data": {
      "text/plain": [
       "array([[0., 0., 0., 0., 0., 0., 0., 0., 0., 0., 0., 0.],\n",
       "       [0., 0., 0., 0., 0., 0., 0., 0., 0., 0., 0., 0.]])"
      ]
     },
     "execution_count": 11,
     "metadata": {},
     "output_type": "execute_result"
    },
    {
     "data": {
      "text/plain": [
       "array([[0., 0., 0., 0., 0., 0., 0., 0., 0., 0., 0., 0.],\n",
       "       [0., 0., 0., 0., 0., 0., 0., 0., 0., 0., 0., 0.]])"
      ]
     },
     "execution_count": 11,
     "metadata": {},
     "output_type": "execute_result"
    }
   ],
   "source": [
    "np.zeros((len([\"O\", \"H\"]), 12))"
   ]
  },
  {
   "cell_type": "code",
   "execution_count": null,
   "metadata": {},
   "outputs": [],
   "source": []
  }
 ],
 "metadata": {
  "kernelspec": {
   "display_name": "Python 3 (ipykernel)",
   "language": "python",
   "name": "python3"
  },
  "language_info": {
   "codemirror_mode": {
    "name": "ipython",
    "version": 3
   },
   "file_extension": ".py",
   "mimetype": "text/x-python",
   "name": "python",
   "nbconvert_exporter": "python",
   "pygments_lexer": "ipython3",
   "version": "3.8.13"
  }
 },
 "nbformat": 4,
 "nbformat_minor": 4
}
