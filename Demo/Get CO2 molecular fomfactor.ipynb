{
 "cells": [
  {
   "cell_type": "markdown",
   "metadata": {},
   "source": [
    "# This notebook serves as a demo of how to get the CO2 form factor\n"
   ]
  },
  {
   "cell_type": "code",
   "execution_count": 1,
   "metadata": {},
   "outputs": [],
   "source": [
    "import numpy as np\n",
    "import matplotlib.pyplot as plt\n",
    "plt.rcParams.update({'font.size': 14})\n",
    "\n",
    "import sys\n",
    "sys.path.append(\"..\")\n",
    "\n",
    "from ContrastEstimation import util, IntensityEstimation"
   ]
  },
  {
   "cell_type": "code",
   "execution_count": 5,
   "metadata": {},
   "outputs": [
    {
     "name": "stdout",
     "output_type": "stream",
     "text": [
      "[\n",
      "[ 'O', np.array([-2.094,1.031,-0.0]),],\n",
      "[ 'O', np.array([-0.812,1.031,-0.0]),],\n",
      "],\n"
     ]
    }
   ],
   "source": [
    "# Get the molecule structure\n",
    "\"\"\"\n",
    "One can either define the molecule structure or \n",
    "use a PDB file to load existing structure\n",
    "or just select some molecules\n",
    "that I have saved to the module\n",
    "\"\"\"\n",
    "my_molecule = util.get_molecule_from_pdb(\"./oxygen.pdb\")\n",
    "\n",
    "# Show the source code of how I have defined a molecule for calculation.\n",
    "util.show_formated_molecule_structure(my_molecule)"
   ]
  },
  {
   "cell_type": "code",
   "execution_count": 13,
   "metadata": {},
   "outputs": [],
   "source": [
    "# Incident photon energy\n",
    "q_list_A = np.linspace(0.01, 10, 1000)   # 2 pi / lambda\n",
    "\n",
    "# Get the corresponding attenuation legnth\n",
    "formfactor_list = np.array([IntensityEstimation.get_molecular_formfactor_for_uniform_sample(molecule_structure=my_molecule,\n",
    "                                                                                   q_detector_in_A = q_list_A[x])\n",
    "                   for x in range(1000)])"
   ]
  },
  {
   "cell_type": "code",
   "execution_count": 15,
   "metadata": {},
   "outputs": [
    {
     "data": {
      "image/png": "[encoded data removed]",
      "text/plain": [
       "<Figure size 432x288 with 1 Axes>"
      ]
     },
     "metadata": {
      "needs_background": "light"
     },
     "output_type": "display_data"
    }
   ],
   "source": [
    "fig, axis = plt.subplots(ncols=1, nrows=1)\n",
    "\n",
    "axis.plot(q_list_A, formfactor_list ** 2, c='purple', lw=3)\n",
    "\n",
    "axis.set_xlabel(\"Q (A^-1)\")\n",
    "axis.set_ylabel(\"F(Q) (um)\")\n",
    "#axis.set_xlim([0, 4])\n",
    "#axis.set_ylim([0, 500])\n",
    "#axis.legend()\n",
    "#plt.savefig(\"C:/Users/haoyuan/Desktop/formfactor.png\",  transparent=True, dpi=600)\n",
    "plt.show()"
   ]
  },
  {
   "cell_type": "code",
   "execution_count": 16,
   "metadata": {},
   "outputs": [
    {
     "data": {
      "text/plain": [
       "15.998585896871807"
      ]
     },
     "execution_count": 16,
     "metadata": {},
     "output_type": "execute_result"
    }
   ],
   "source": [
    "formfactor_list[0]"
   ]
  },
  {
   "cell_type": "code",
   "execution_count": 19,
   "metadata": {},
   "outputs": [
    {
     "data": {
      "text/plain": [
       "14.033723580292266"
      ]
     },
     "execution_count": 19,
     "metadata": {},
     "output_type": "execute_result"
    }
   ],
   "source": [
    "formfactor_list[np.argmin(np.abs(q_list_A - 1))]"
   ]
  },
  {
   "cell_type": "code",
   "execution_count": 20,
   "metadata": {},
   "outputs": [
    {
     "data": {
      "text/plain": [
       "14.033723580292266"
      ]
     },
     "execution_count": 20,
     "metadata": {},
     "output_type": "execute_result"
    }
   ],
   "source": [
    "formfactor_list[np.argmin(np.abs(q_list_A - 1))]"
   ]
  },
  {
   "cell_type": "markdown",
   "metadata": {},
   "source": [
    "# Get the result for oxygen"
   ]
  },
  {
   "cell_type": "code",
   "execution_count": 21,
   "metadata": {},
   "outputs": [
    {
     "name": "stdout",
     "output_type": "stream",
     "text": [
      "[\n",
      "[ 'C', np.array([-1.194,0.58,0.312]),],\n",
      "[ 'O', np.array([0.122,0.548,0.312]),],\n",
      "[ 'O', np.array([-2.51,0.611,0.312]),],\n",
      "],\n"
     ]
    }
   ],
   "source": [
    "# Get the molecule structure\n",
    "\"\"\"\n",
    "One can either define the molecule structure or \n",
    "use a PDB file to load existing structure\n",
    "or just select some molecules\n",
    "that I have saved to the module\n",
    "\"\"\"\n",
    "my_molecule_co2 = util.get_molecule_from_pdb(\"../pdb_files/co2.pdb\")\n",
    "\n",
    "# Show the source code of how I have defined a molecule for calculation.\n",
    "util.show_formated_molecule_structure(my_molecule_co2)"
   ]
  },
  {
   "cell_type": "code",
   "execution_count": 22,
   "metadata": {},
   "outputs": [],
   "source": [
    "# Incident photon energy\n",
    "q_list_A = np.linspace(0.01, 10, 1000)   # 2 pi / lambda\n",
    "\n",
    "# Get the corresponding attenuation legnth\n",
    "formfactor_list_co2 = np.array([IntensityEstimation.get_molecular_formfactor_for_uniform_sample(\n",
    "    molecule_structure=my_molecule_co2,\n",
    "    q_detector_in_A = q_list_A[x])\n",
    "                   for x in range(1000)])"
   ]
  },
  {
   "cell_type": "markdown",
   "metadata": {},
   "source": [
    "# Copmare the two scattering"
   ]
  },
  {
   "cell_type": "code",
   "execution_count": 26,
   "metadata": {},
   "outputs": [
    {
     "data": {
      "image/png": "[encoded data removed]",
      "text/plain": [
       "<Figure size 432x288 with 1 Axes>"
      ]
     },
     "metadata": {
      "needs_background": "light"
     },
     "output_type": "display_data"
    }
   ],
   "source": [
    "fig, axis = plt.subplots(ncols=1, nrows=1)\n",
    "\n",
    "axis.plot(q_list_A, formfactor_list, c='red', lw=3, label=\"O2\")\n",
    "axis.plot(q_list_A, formfactor_list_co2, c='blue', lw=3, label=\"CO2\")\n",
    "\n",
    "axis.set_xlabel(\"Q (A^-1)\")\n",
    "axis.set_ylabel(\"F(Q) (um)\")\n",
    "axis.set_xlim([0, 4])\n",
    "#axis.set_ylim([0, 500])\n",
    "plt.legend()\n",
    "#plt.savefig(\"C:/Users/haoyuan/Desktop/formfactor.png\",  transparent=True, dpi=600)\n",
    "plt.show()"
   ]
  },
  {
   "cell_type": "code",
   "execution_count": null,
   "metadata": {},
   "outputs": [],
   "source": []
  }
 ],
 "metadata": {
  "kernelspec": {
   "display_name": "Python 3 (ipykernel)",
   "language": "python",
   "name": "python3"
  },
  "language_info": {
   "codemirror_mode": {
    "name": "ipython",
    "version": 3
   },
   "file_extension": ".py",
   "mimetype": "text/x-python",
   "name": "python",
   "nbconvert_exporter": "python",
   "pygments_lexer": "ipython3",
   "version": "3.9.7"
  }
 },
 "nbformat": 4,
 "nbformat_minor": 4
}
