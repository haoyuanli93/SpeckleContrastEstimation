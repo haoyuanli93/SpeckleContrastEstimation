{
 "cells": [
  {
   "cell_type": "markdown",
   "metadata": {},
   "source": [
    "# This notebook serves as a demo of how to get the CO2 scattering intensity assuming a unifrom sample"
   ]
  },
  {
   "cell_type": "code",
   "execution_count": 1,
   "metadata": {},
   "outputs": [],
   "source": [
    "import numpy as np\n",
    "import matplotlib.pyplot as plt\n",
    "import matplotlib\n",
    "from matplotlib.ticker import ScalarFormatter, NullFormatter\n",
    "\n",
    "plt.rcParams.update({'font.size': 14})\n",
    "matplotlib.rcParams['xtick.minor.size'] = 0\n",
    "matplotlib.rcParams['xtick.minor.width'] = 0\n",
    "\n",
    "import sys\n",
    "sys.path.append(\"..\")\n",
    "\n",
    "from ContrastEstimation import util, IntensityEstimation"
   ]
  },
  {
   "cell_type": "markdown",
   "metadata": {},
   "source": [
    "## Define the sample molecule"
   ]
  },
  {
   "cell_type": "code",
   "execution_count": 3,
   "metadata": {},
   "outputs": [
    {
     "name": "stdout",
     "output_type": "stream",
     "text": [
      "[\n",
      "[ 'O', np.array([-2.094,1.031,-0.0]),],\n",
      "[ 'O', np.array([-0.812,1.031,-0.0]),],\n",
      "],\n"
     ]
    }
   ],
   "source": [
    "my_molecule = util.get_molecule_from_pdb(\"./oxygen.pdb\")\n",
    "\n",
    "# Show the source code of how I have defined a molecule for calculation.\n",
    "util.show_formated_molecule_structure(my_molecule)"
   ]
  },
  {
   "cell_type": "markdown",
   "metadata": {},
   "source": [
    "## Estimate the scattering intensity"
   ]
  },
  {
   "cell_type": "code",
   "execution_count": 4,
   "metadata": {},
   "outputs": [],
   "source": [
    "density_g_cm3_list = [0.132,]  # g / cm3  # Partial density for each kind of molecule\n",
    "q_in_A = 0.12  # A\n",
    "\n",
    "# Define sample thickness\n",
    "N_sample = 1000\n",
    "sample_thickness_list = np.linspace(10, 1e4, N_sample) * 1e-6\n",
    "\n",
    "# Define detector distance\n",
    "N_det = 1000\n",
    "distance_list = np.linspace(1, 10, N_det)\n",
    "\n",
    "# Define detector pixel size\n",
    "pixel_size = 50e-6  # 50 um\n",
    "\n",
    "# Define the incident photon count\n",
    "incident_photon_count = 1e8\n",
    "incident_photon_energy_keV = 9.5 # keV\n",
    "\n",
    "# Scattering intensity map\n",
    "photon_count_per_pixel = IntensityEstimation.get_scatter_intensity_with_a_unifrom_sample_batch(\n",
    "    molecule_structure_list=[my_molecule, ],\n",
    "    density_g_cm3_list=density_g_cm3_list,\n",
    "    sample_thickness_list=sample_thickness_list,\n",
    "    pixel_size=pixel_size,\n",
    "    detector_distance_list = distance_list,\n",
    "    incident_photon_count = incident_photon_count,\n",
    "    q_detector = q_in_A,\n",
    "    photon_energy_keV = incident_photon_energy_keV)\n",
    "        "
   ]
  },
  {
   "cell_type": "code",
   "execution_count": 5,
   "metadata": {},
   "outputs": [
    {
     "data": {
      "image/png": "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\n",
      "text/plain": [
       "<Figure size 432x288 with 2 Axes>"
      ]
     },
     "metadata": {
      "needs_background": "light"
     },
     "output_type": "display_data"
    }
   ],
   "source": [
    "fig, axis = plt.subplots(ncols=1, nrows=1)\n",
    "\n",
    "img1 = axis.imshow(np.flipud(photon_count_per_pixel),\n",
    "           extent=[1, 10, 1e4, 10],\n",
    "           origin=\"lower\",\n",
    "           aspect='auto',\n",
    "           cmap='jet')\n",
    "axis.set_xlabel(\"Detector distance (m)\")\n",
    "axis.set_ylabel(\"Sample thickness (um)\")\n",
    "\n",
    "axis.set_yscale('log')\n",
    "\n",
    "axis.set_xscale('log')\n",
    "axis.set_xticks([1,2,3,5,7])\n",
    "axis.xaxis.set_major_formatter(ScalarFormatter())\n",
    "axis.minorticks_off()\n",
    "\n",
    "\n",
    "fig.colorbar(img1, ax=axis)\n",
    "\n",
    "plt.show()"
   ]
  },
  {
   "cell_type": "code",
   "execution_count": null,
   "metadata": {},
   "outputs": [],
   "source": []
  }
 ],
 "metadata": {
  "kernelspec": {
   "display_name": "Python 3 (ipykernel)",
   "language": "python",
   "name": "python3"
  },
  "language_info": {
   "codemirror_mode": {
    "name": "ipython",
    "version": 3
   },
   "file_extension": ".py",
   "mimetype": "text/x-python",
   "name": "python",
   "nbconvert_exporter": "python",
   "pygments_lexer": "ipython3",
<<<<<<< HEAD
   "version": "3.9.7"
=======
   "version": "3.6.12"
>>>>>>> 05650882da8e47fdf5716a9b219d0bc74493bce4
  }
 },
 "nbformat": 4,
 "nbformat_minor": 4
}
